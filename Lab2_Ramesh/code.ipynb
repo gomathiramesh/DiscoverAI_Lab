{
    "metadata": {
        "kernelspec": {
            "name": "python3",
            "display_name": "Python 3 (ipykernel)",
            "language": "python"
        }
    },
    "nbformat": 4,
    "nbformat_minor": 2,
    "cells": [
        {
            "attachments": {},
            "cell_type": "markdown",
            "metadata": {},
            "source": [
                "# **Titanic Survivors with Decision Trees**"
            ]
        },
        {
            "attachments": {},
            "cell_type": "markdown",
            "metadata": {},
            "source": [
                "The code below is taken from Manav Sehgal's submission on [kaggle.com](https://www.kaggle.com/startupsci/titanic-data-science-solutions/notebook).\n",
                "\n",
                "You are encouraged to go to the link above and check the full code. In this lab, you will do the necessary steps to explore the data and prepare it for sklearn algorithms."
            ]
        },
        {
            "attachments": {},
            "cell_type": "markdown",
            "metadata": {},
            "source": [
                "**About the data set**"
            ]
        },
        {
            "attachments": {},
            "cell_type": "markdown",
            "metadata": {},
            "source": [
                "On April 15, 1912, during her maiden voyage, the Titanic sank after colliding with an iceberg, killing 1502 out of 2224 passengers and crew. Translated 32% survival rate.\n",
                "One of the reasons that the shipwreck led to such loss of life was that there were not enough lifeboats for the passengers and crew.\n",
                "\n",
                "Although there was some element of luck involved in surviving the sinking, some groups of people were more likely to survive than others, such as women, children, and the upper-class."
            ]
        },
        {
            "attachments": {},
            "cell_type": "markdown",
            "metadata": {},
            "source": [
                "**Import libraries**"
            ]
        },
        {
            "cell_type": "code",
            "execution_count": 241,
            "metadata": {},
            "outputs": [],
            "source": [
                "# data analysis and wrangling\n",
                "import numpy as np # linear algebra\n",
                "import pandas as pd # data processing, CSV file I/O (e.g. pd.read_csv)\n",
                "#import random as rnd\n",
                "\n",
                "# visualization\n",
                "import seaborn as sns\n",
                "import matplotlib.pyplot as plt\n",
                "%matplotlib inline"
            ]
        },
        {
            "attachments": {},
            "cell_type": "markdown",
            "metadata": {},
            "source": [
                "# Acquire data"
            ]
        },
        {
            "cell_type": "code",
            "execution_count": 242,
            "metadata": {},
            "outputs": [],
            "source": [
                "# Acquire the training data set\n",
                "train_df = pd.read_csv('SupervisedLearning/Titanic_survivors/train.csv')\n",
                "\n",
                "# Acquire the testing data set \n",
                "test_df = pd.read_csv('SupervisedLearning/Titanic_survivors/test.csv')\n",
                "\n",
                "# Combine these datasets to run certain operations on both datasets together.\n",
                "combine = [train_df, test_df]"
            ]
        },
        {
            "attachments": {},
            "cell_type": "markdown",
            "metadata": {},
            "source": [
                "# Inspect data"
            ]
        },
        {
            "cell_type": "code",
            "execution_count": 243,
            "metadata": {},
            "outputs": [
                {
                    "data": {
                        "text/plain": "array(['PassengerId', 'Survived', 'Pclass', 'Name', 'Sex', 'Age', 'SibSp',\n       'Parch', 'Ticket', 'Fare', 'Cabin', 'Embarked'], dtype=object)"
                    },
                    "execution_count": 243,
                    "metadata": {},
                    "output_type": "execute_result"
                }
            ],
            "source": [
                "#TODO: Write code to display the features available in train_df\n",
                "#Hint: Use columns.values\n",
                "train_df.columns.values"
            ]
        },
        {
            "cell_type": "code",
            "execution_count": 244,
            "metadata": {},
            "outputs": [
                {
                    "data": {
                        "text/html": "\u003cdiv\u003e\n\u003cstyle scoped\u003e\n    .dataframe tbody tr th:only-of-type {\n        vertical-align: middle;\n    }\n\n    .dataframe tbody tr th {\n        vertical-align: top;\n    }\n\n    .dataframe thead th {\n        text-align: right;\n    }\n\u003c/style\u003e\n\u003ctable border=\"1\" class=\"dataframe\"\u003e\n  \u003cthead\u003e\n    \u003ctr style=\"text-align: right;\"\u003e\n      \u003cth\u003e\u003c/th\u003e\n      \u003cth\u003ePassengerId\u003c/th\u003e\n      \u003cth\u003eSurvived\u003c/th\u003e\n      \u003cth\u003ePclass\u003c/th\u003e\n      \u003cth\u003eName\u003c/th\u003e\n      \u003cth\u003eSex\u003c/th\u003e\n      \u003cth\u003eAge\u003c/th\u003e\n      \u003cth\u003eSibSp\u003c/th\u003e\n      \u003cth\u003eParch\u003c/th\u003e\n      \u003cth\u003eTicket\u003c/th\u003e\n      \u003cth\u003eFare\u003c/th\u003e\n      \u003cth\u003eCabin\u003c/th\u003e\n      \u003cth\u003eEmbarked\u003c/th\u003e\n    \u003c/tr\u003e\n  \u003c/thead\u003e\n  \u003ctbody\u003e\n    \u003ctr\u003e\n      \u003cth\u003e0\u003c/th\u003e\n      \u003ctd\u003e1\u003c/td\u003e\n      \u003ctd\u003e0\u003c/td\u003e\n      \u003ctd\u003e3\u003c/td\u003e\n      \u003ctd\u003eBraund, Mr. Owen Harris\u003c/td\u003e\n      \u003ctd\u003emale\u003c/td\u003e\n      \u003ctd\u003e22.0\u003c/td\u003e\n      \u003ctd\u003e1\u003c/td\u003e\n      \u003ctd\u003e0\u003c/td\u003e\n      \u003ctd\u003eA/5 21171\u003c/td\u003e\n      \u003ctd\u003e7.2500\u003c/td\u003e\n      \u003ctd\u003eNaN\u003c/td\u003e\n      \u003ctd\u003eS\u003c/td\u003e\n    \u003c/tr\u003e\n    \u003ctr\u003e\n      \u003cth\u003e1\u003c/th\u003e\n      \u003ctd\u003e2\u003c/td\u003e\n      \u003ctd\u003e1\u003c/td\u003e\n      \u003ctd\u003e1\u003c/td\u003e\n      \u003ctd\u003eCumings, Mrs. John Bradley (Florence Briggs Th...\u003c/td\u003e\n      \u003ctd\u003efemale\u003c/td\u003e\n      \u003ctd\u003e38.0\u003c/td\u003e\n      \u003ctd\u003e1\u003c/td\u003e\n      \u003ctd\u003e0\u003c/td\u003e\n      \u003ctd\u003ePC 17599\u003c/td\u003e\n      \u003ctd\u003e71.2833\u003c/td\u003e\n      \u003ctd\u003eC85\u003c/td\u003e\n      \u003ctd\u003eC\u003c/td\u003e\n    \u003c/tr\u003e\n    \u003ctr\u003e\n      \u003cth\u003e2\u003c/th\u003e\n      \u003ctd\u003e3\u003c/td\u003e\n      \u003ctd\u003e1\u003c/td\u003e\n      \u003ctd\u003e3\u003c/td\u003e\n      \u003ctd\u003eHeikkinen, Miss. Laina\u003c/td\u003e\n      \u003ctd\u003efemale\u003c/td\u003e\n      \u003ctd\u003e26.0\u003c/td\u003e\n      \u003ctd\u003e0\u003c/td\u003e\n      \u003ctd\u003e0\u003c/td\u003e\n      \u003ctd\u003eSTON/O2. 3101282\u003c/td\u003e\n      \u003ctd\u003e7.9250\u003c/td\u003e\n      \u003ctd\u003eNaN\u003c/td\u003e\n      \u003ctd\u003eS\u003c/td\u003e\n    \u003c/tr\u003e\n    \u003ctr\u003e\n      \u003cth\u003e3\u003c/th\u003e\n      \u003ctd\u003e4\u003c/td\u003e\n      \u003ctd\u003e1\u003c/td\u003e\n      \u003ctd\u003e1\u003c/td\u003e\n      \u003ctd\u003eFutrelle, Mrs. Jacques Heath (Lily May Peel)\u003c/td\u003e\n      \u003ctd\u003efemale\u003c/td\u003e\n      \u003ctd\u003e35.0\u003c/td\u003e\n      \u003ctd\u003e1\u003c/td\u003e\n      \u003ctd\u003e0\u003c/td\u003e\n      \u003ctd\u003e113803\u003c/td\u003e\n      \u003ctd\u003e53.1000\u003c/td\u003e\n      \u003ctd\u003eC123\u003c/td\u003e\n      \u003ctd\u003eS\u003c/td\u003e\n    \u003c/tr\u003e\n    \u003ctr\u003e\n      \u003cth\u003e4\u003c/th\u003e\n      \u003ctd\u003e5\u003c/td\u003e\n      \u003ctd\u003e0\u003c/td\u003e\n      \u003ctd\u003e3\u003c/td\u003e\n      \u003ctd\u003eAllen, Mr. William Henry\u003c/td\u003e\n      \u003ctd\u003emale\u003c/td\u003e\n      \u003ctd\u003e35.0\u003c/td\u003e\n      \u003ctd\u003e0\u003c/td\u003e\n      \u003ctd\u003e0\u003c/td\u003e\n      \u003ctd\u003e373450\u003c/td\u003e\n      \u003ctd\u003e8.0500\u003c/td\u003e\n      \u003ctd\u003eNaN\u003c/td\u003e\n      \u003ctd\u003eS\u003c/td\u003e\n    \u003c/tr\u003e\n  \u003c/tbody\u003e\n\u003c/table\u003e\n\u003c/div\u003e",
                        "text/plain": "   PassengerId  Survived  Pclass  \\\n0            1         0       3   \n1            2         1       1   \n2            3         1       3   \n3            4         1       1   \n4            5         0       3   \n\n                                                Name     Sex   Age  SibSp  \\\n0                            Braund, Mr. Owen Harris    male  22.0      1   \n1  Cumings, Mrs. John Bradley (Florence Briggs Th...  female  38.0      1   \n2                             Heikkinen, Miss. Laina  female  26.0      0   \n3       Futrelle, Mrs. Jacques Heath (Lily May Peel)  female  35.0      1   \n4                           Allen, Mr. William Henry    male  35.0      0   \n\n   Parch            Ticket     Fare Cabin Embarked  \n0      0         A/5 21171   7.2500   NaN        S  \n1      0          PC 17599  71.2833   C85        C  \n2      0  STON/O2. 3101282   7.9250   NaN        S  \n3      0            113803  53.1000  C123        S  \n4      0            373450   8.0500   NaN        S  "
                    },
                    "execution_count": 244,
                    "metadata": {},
                    "output_type": "execute_result"
                }
            ],
            "source": [
                "#TODO: Write code to inspect the first five rows of train_df\n",
                "train_df.head()"
            ]
        },
        {
            "attachments": {},
            "cell_type": "markdown",
            "metadata": {},
            "source": [
                "**Which features are categorical?**\n",
                "\n",
                "These values classify the samples into sets of similar samples. Within categorical features are the values nominal, ordinal, ratio, or interval based? Among other things this helps us select the appropriate plots for visualization.\n",
                "\n",
                "In the text box below, list all the categorical features.\n",
                ""
            ]
        },
        {
            "attachments": {},
            "cell_type": "markdown",
            "metadata": {},
            "source": [
                "Name - nominal,\n",
                "Sex - nominal,\n",
                "Ticket - ,\n",
                "Cabin\n",
                "PassengersId - nominal\n",
                "Embarked - nominal,\n",
                "Pclass - Ordinal\n",
                "Categorical: Survived, Sex, and Embarked. Ordinal: Pclass."
            ]
        },
        {
            "attachments": {},
            "cell_type": "markdown",
            "metadata": {},
            "source": [
                "**Which features are numerical?** \n",
                "\n",
                "These values change from sample to sample. Within numerical features are the values discrete, continuous, or timeseries based? Among other things this helps us select the appropriate plots for visualization.\n",
                "\n",
                "In the text box below, list all the continuous and discrete features."
            ]
        },
        {
            "attachments": {},
            "cell_type": "markdown",
            "metadata": {},
            "source": [
                "****"
            ]
        },
        {
            "attachments": {},
            "cell_type": "markdown",
            "metadata": {},
            "source": [
                "\n",
                "\n",
                "Continous: Age, Fare. Discrete: SibSp, Parch."
            ]
        },
        {
            "attachments": {},
            "cell_type": "markdown",
            "metadata": {},
            "source": [
                "**Which features are mixed data types?**\n",
                "\n",
                "Numerical, alphanumeric data within same feature. These are candidates for correcting goal.\n",
                "\n",
                "* Ticket is a mix of numeric and alphanumeric data types. Cabin is alphanumeric.\n",
                "\n",
                ""
            ]
        },
        {
            "attachments": {},
            "cell_type": "markdown",
            "metadata": {},
            "source": [
                "**Which features may contain errors or typos?**\n",
                "\n",
                "This is harder to review for a large dataset, however reviewing a few samples from a smaller dataset may just tell us outright, which features may require correcting.\n",
                "\n",
                "* Name feature may contain errors or typos as there are several ways used to describe a name including titles, round brackets, and quotes used for alternative or short names."
            ]
        },
        {
            "attachments": {},
            "cell_type": "markdown",
            "metadata": {},
            "source": [
                "**Which features contain blank, null or empty values?**\n",
                "\n",
                "Write code below to find the answer."
            ]
        },
        {
            "cell_type": "code",
            "execution_count": 245,
            "metadata": {},
            "outputs": [
                {
                    "name": "stdout",
                    "output_type": "stream",
                    "text": "\u003cclass 'pandas.core.frame.DataFrame'\u003e\nRangeIndex: 891 entries, 0 to 890\nData columns (total 12 columns):\n #   Column       Non-Null Count  Dtype  \n---  ------       --------------  -----  \n 0   PassengerId  891 non-null    int64  \n 1   Survived     891 non-null    int64  \n 2   Pclass       891 non-null    int64  \n 3   Name         891 non-null    object \n 4   Sex          891 non-null    object \n 5   Age          714 non-null    float64\n 6   SibSp        891 non-null    int64  \n 7   Parch        891 non-null    int64  \n 8   Ticket       891 non-null    object \n 9   Fare         891 non-null    float64\n 10  Cabin        204 non-null    object \n 11  Embarked     889 non-null    object \ndtypes: float64(2), int64(5), object(5)\nmemory usage: 83.7+ KB\n"
                }
            ],
            "source": [
                "#TODO: Write code to get the information on train_df  \n",
                "train_df.info()"
            ]
        },
        {
            "cell_type": "code",
            "execution_count": 246,
            "metadata": {},
            "outputs": [
                {
                    "name": "stdout",
                    "output_type": "stream",
                    "text": "\u003cclass 'pandas.core.frame.DataFrame'\u003e\nRangeIndex: 418 entries, 0 to 417\nData columns (total 11 columns):\n #   Column       Non-Null Count  Dtype  \n---  ------       --------------  -----  \n 0   PassengerId  418 non-null    int64  \n 1   Pclass       418 non-null    int64  \n 2   Name         418 non-null    object \n 3   Sex          418 non-null    object \n 4   Age          332 non-null    float64\n 5   SibSp        418 non-null    int64  \n 6   Parch        418 non-null    int64  \n 7   Ticket       418 non-null    object \n 8   Fare         417 non-null    float64\n 9   Cabin        91 non-null     object \n 10  Embarked     418 non-null    object \ndtypes: float64(2), int64(4), object(5)\nmemory usage: 36.0+ KB\n"
                }
            ],
            "source": [
                "#TODO: Write code to get the information on test_df \n",
                "test_df.info()"
            ]
        },
        {
            "attachments": {},
            "cell_type": "markdown",
            "metadata": {},
            "source": [
                "**answer here:** \n",
                "Cabin \u003e Age \u003e Embarked features contain a number of null values in that order for the training dataset.\n",
                "Cabin \u003e Age are incomplete in case of test dataset."
            ]
        },
        {
            "attachments": {},
            "cell_type": "markdown",
            "metadata": {},
            "source": [
                "# Clean data"
            ]
        },
        {
            "attachments": {},
            "cell_type": "markdown",
            "metadata": {},
            "source": [
                "**1. Correcting**\n",
                "\n",
                "This is a good starting goal to execute. By dropping features we are dealing with fewer data points. Speeds up our notebook and eases the analysis.\n",
                "\n",
                "Note that where applicable we perform operations on both training and testing datasets together to stay consistent.\n",
                "\n",
                "* Ticket feature may be dropped from our analysis as it contains high ratio of duplicates (22%) and there may not be a correlation between Ticket and survival.\n",
                "* Cabin feature may be dropped as it is highly incomplete or contains many null values both in training and test dataset.\n",
                "* PassengerId may be dropped from training dataset as it does not contribute to survival.\n",
                "* Name feature is relatively non-standard, may not contribute directly to survival, so maybe dropped. This will be dropped later, after creating some new features out of it."
            ]
        },
        {
            "cell_type": "code",
            "execution_count": 247,
            "metadata": {},
            "outputs": [
                {
                    "name": "stdout",
                    "output_type": "stream",
                    "text": "Before (891, 12) (418, 11) (891, 12) (418, 11)\n"
                },
                {
                    "data": {
                        "text/plain": "('After', (891, 10), (418, 9), (891, 10), (418, 9))"
                    },
                    "execution_count": 247,
                    "metadata": {},
                    "output_type": "execute_result"
                }
            ],
            "source": [
                "# Display the new structure of all data frames before dropping two columns\n",
                "print(\"Before\", train_df.shape, test_df.shape, combine[0].shape, \n",
                "       combine[1].shape)\n",
                "\n",
                "# Drop Ticket and Cabin columns from train_df\n",
                "train_df = train_df.drop(['Ticket', 'Cabin'], axis=1)\n",
                "\n",
                "#TODO: Write code to drop Ticket and Cabin columns from test_df\n",
                "test_df = test_df.drop(['Ticket','Cabin'], axis=1)\n",
                "# Reset the combine data frame with the new values in both datasets\n",
                "combine = [train_df, test_df]\n",
                "\n",
                "#TODO: Write code to display the new structure of all data frames after dropping two columns\n",
                "# Reset the combine data frame\n",
                "\"After\", train_df.shape, test_df.shape, combine[0].shape, combine[1].shape\n",
                "\n",
                ""
            ]
        },
        {
            "cell_type": "code",
            "execution_count": 248,
            "metadata": {},
            "outputs": [
                {
                    "data": {
                        "text/plain": "((891, 9), (418, 9), (891, 9), (418, 9))"
                    },
                    "execution_count": 248,
                    "metadata": {},
                    "output_type": "execute_result"
                }
            ],
            "source": [
                "#TODO: Write code to drop the PassengerId feature in the training dataset.\n",
                "train_df = train_df.drop(['PassengerId'],axis=1)\n",
                "# Reset the combine data frame\n",
                "combine = [train_df, test_df]\n",
                "\n",
                "#TODO: Write code to display the shape of train_df and test_df\n",
                "train_df.shape,test_df.shape, combine[0].shape, combine[1].shape"
            ]
        },
        {
            "attachments": {},
            "cell_type": "markdown",
            "metadata": {},
            "source": [
                "**2. Creating**\n",
                "\n",
                "We want to analyze if Name feature can be engineered to extract titles and test correlation between titles and survival, before dropping the Name feature.\n",
                "\n",
                "In the following code we extract Title feature using regular expressions. The RegEx pattern (\\w+\\.) matches the first word which ends with a dot character within Name feature. The expand=False flag returns a DataFrame.\n",
                "\n",
                "Most titles band Age groups accurately.\n",
                "Survival among Title Age bands varies slightly.\n",
                "Certain titles mostly survived (Mme, Lady, Sir) or did not (Don, Rev, Jonkheer).\n",
                "\n",
                "We decide to retain the new Title feature for model training.\n",
                "\n",
                "The crosstab() function is used to compute a simple cross tabulation of two (or more) factors."
            ]
        },
        {
            "cell_type": "code",
            "execution_count": 249,
            "metadata": {},
            "outputs": [
                {
                    "data": {
                        "text/html": "\u003cdiv\u003e\n\u003cstyle scoped\u003e\n    .dataframe tbody tr th:only-of-type {\n        vertical-align: middle;\n    }\n\n    .dataframe tbody tr th {\n        vertical-align: top;\n    }\n\n    .dataframe thead th {\n        text-align: right;\n    }\n\u003c/style\u003e\n\u003ctable border=\"1\" class=\"dataframe\"\u003e\n  \u003cthead\u003e\n    \u003ctr style=\"text-align: right;\"\u003e\n      \u003cth\u003eSex\u003c/th\u003e\n      \u003cth\u003efemale\u003c/th\u003e\n      \u003cth\u003emale\u003c/th\u003e\n    \u003c/tr\u003e\n    \u003ctr\u003e\n      \u003cth\u003eTitle\u003c/th\u003e\n      \u003cth\u003e\u003c/th\u003e\n      \u003cth\u003e\u003c/th\u003e\n    \u003c/tr\u003e\n  \u003c/thead\u003e\n  \u003ctbody\u003e\n    \u003ctr\u003e\n      \u003cth\u003eCapt\u003c/th\u003e\n      \u003ctd\u003e0\u003c/td\u003e\n      \u003ctd\u003e1\u003c/td\u003e\n    \u003c/tr\u003e\n    \u003ctr\u003e\n      \u003cth\u003eCol\u003c/th\u003e\n      \u003ctd\u003e0\u003c/td\u003e\n      \u003ctd\u003e2\u003c/td\u003e\n    \u003c/tr\u003e\n    \u003ctr\u003e\n      \u003cth\u003eCountess\u003c/th\u003e\n      \u003ctd\u003e1\u003c/td\u003e\n      \u003ctd\u003e0\u003c/td\u003e\n    \u003c/tr\u003e\n    \u003ctr\u003e\n      \u003cth\u003eDon\u003c/th\u003e\n      \u003ctd\u003e0\u003c/td\u003e\n      \u003ctd\u003e1\u003c/td\u003e\n    \u003c/tr\u003e\n    \u003ctr\u003e\n      \u003cth\u003eDr\u003c/th\u003e\n      \u003ctd\u003e1\u003c/td\u003e\n      \u003ctd\u003e6\u003c/td\u003e\n    \u003c/tr\u003e\n    \u003ctr\u003e\n      \u003cth\u003eJonkheer\u003c/th\u003e\n      \u003ctd\u003e0\u003c/td\u003e\n      \u003ctd\u003e1\u003c/td\u003e\n    \u003c/tr\u003e\n    \u003ctr\u003e\n      \u003cth\u003eLady\u003c/th\u003e\n      \u003ctd\u003e1\u003c/td\u003e\n      \u003ctd\u003e0\u003c/td\u003e\n    \u003c/tr\u003e\n    \u003ctr\u003e\n      \u003cth\u003eMajor\u003c/th\u003e\n      \u003ctd\u003e0\u003c/td\u003e\n      \u003ctd\u003e2\u003c/td\u003e\n    \u003c/tr\u003e\n    \u003ctr\u003e\n      \u003cth\u003eMaster\u003c/th\u003e\n      \u003ctd\u003e0\u003c/td\u003e\n      \u003ctd\u003e40\u003c/td\u003e\n    \u003c/tr\u003e\n    \u003ctr\u003e\n      \u003cth\u003eMiss\u003c/th\u003e\n      \u003ctd\u003e182\u003c/td\u003e\n      \u003ctd\u003e0\u003c/td\u003e\n    \u003c/tr\u003e\n    \u003ctr\u003e\n      \u003cth\u003eMlle\u003c/th\u003e\n      \u003ctd\u003e2\u003c/td\u003e\n      \u003ctd\u003e0\u003c/td\u003e\n    \u003c/tr\u003e\n    \u003ctr\u003e\n      \u003cth\u003eMme\u003c/th\u003e\n      \u003ctd\u003e1\u003c/td\u003e\n      \u003ctd\u003e0\u003c/td\u003e\n    \u003c/tr\u003e\n    \u003ctr\u003e\n      \u003cth\u003eMr\u003c/th\u003e\n      \u003ctd\u003e0\u003c/td\u003e\n      \u003ctd\u003e517\u003c/td\u003e\n    \u003c/tr\u003e\n    \u003ctr\u003e\n      \u003cth\u003eMrs\u003c/th\u003e\n      \u003ctd\u003e125\u003c/td\u003e\n      \u003ctd\u003e0\u003c/td\u003e\n    \u003c/tr\u003e\n    \u003ctr\u003e\n      \u003cth\u003eMs\u003c/th\u003e\n      \u003ctd\u003e1\u003c/td\u003e\n      \u003ctd\u003e0\u003c/td\u003e\n    \u003c/tr\u003e\n    \u003ctr\u003e\n      \u003cth\u003eRev\u003c/th\u003e\n      \u003ctd\u003e0\u003c/td\u003e\n      \u003ctd\u003e6\u003c/td\u003e\n    \u003c/tr\u003e\n    \u003ctr\u003e\n      \u003cth\u003eSir\u003c/th\u003e\n      \u003ctd\u003e0\u003c/td\u003e\n      \u003ctd\u003e1\u003c/td\u003e\n    \u003c/tr\u003e\n  \u003c/tbody\u003e\n\u003c/table\u003e\n\u003c/div\u003e",
                        "text/plain": "Sex       female  male\nTitle                 \nCapt           0     1\nCol            0     2\nCountess       1     0\nDon            0     1\nDr             1     6\nJonkheer       0     1\nLady           1     0\nMajor          0     2\nMaster         0    40\nMiss         182     0\nMlle           2     0\nMme            1     0\nMr             0   517\nMrs          125     0\nMs             1     0\nRev            0     6\nSir            0     1"
                    },
                    "execution_count": 249,
                    "metadata": {},
                    "output_type": "execute_result"
                }
            ],
            "source": [
                "# Loop through each item in the combined data set and extract\n",
                "# titles from the Name column\n",
                "for dataset in combine:\n",
                "    dataset['Title'] = dataset.Name.str.extract(' ([A-Za-z]+)\\.', expand=False)\n",
                "\n",
                "pd.crosstab(train_df['Title'], train_df['Sex'])"
            ]
        },
        {
            "cell_type": "code",
            "execution_count": 250,
            "metadata": {},
            "outputs": [
                {
                    "data": {
                        "text/html": "\u003cdiv\u003e\n\u003cstyle scoped\u003e\n    .dataframe tbody tr th:only-of-type {\n        vertical-align: middle;\n    }\n\n    .dataframe tbody tr th {\n        vertical-align: top;\n    }\n\n    .dataframe thead th {\n        text-align: right;\n    }\n\u003c/style\u003e\n\u003ctable border=\"1\" class=\"dataframe\"\u003e\n  \u003cthead\u003e\n    \u003ctr style=\"text-align: right;\"\u003e\n      \u003cth\u003e\u003c/th\u003e\n      \u003cth\u003eTitle\u003c/th\u003e\n      \u003cth\u003eSurvived\u003c/th\u003e\n    \u003c/tr\u003e\n  \u003c/thead\u003e\n  \u003ctbody\u003e\n    \u003ctr\u003e\n      \u003cth\u003e0\u003c/th\u003e\n      \u003ctd\u003eMaster\u003c/td\u003e\n      \u003ctd\u003e0.575000\u003c/td\u003e\n    \u003c/tr\u003e\n    \u003ctr\u003e\n      \u003cth\u003e1\u003c/th\u003e\n      \u003ctd\u003eMiss\u003c/td\u003e\n      \u003ctd\u003e0.702703\u003c/td\u003e\n    \u003c/tr\u003e\n    \u003ctr\u003e\n      \u003cth\u003e2\u003c/th\u003e\n      \u003ctd\u003eMr\u003c/td\u003e\n      \u003ctd\u003e0.156673\u003c/td\u003e\n    \u003c/tr\u003e\n    \u003ctr\u003e\n      \u003cth\u003e3\u003c/th\u003e\n      \u003ctd\u003eMrs\u003c/td\u003e\n      \u003ctd\u003e0.793651\u003c/td\u003e\n    \u003c/tr\u003e\n    \u003ctr\u003e\n      \u003cth\u003e4\u003c/th\u003e\n      \u003ctd\u003eRare\u003c/td\u003e\n      \u003ctd\u003e0.347826\u003c/td\u003e\n    \u003c/tr\u003e\n  \u003c/tbody\u003e\n\u003c/table\u003e\n\u003c/div\u003e",
                        "text/plain": "    Title  Survived\n0  Master  0.575000\n1    Miss  0.702703\n2      Mr  0.156673\n3     Mrs  0.793651\n4    Rare  0.347826"
                    },
                    "execution_count": 250,
                    "metadata": {},
                    "output_type": "execute_result"
                }
            ],
            "source": [
                "# Replace titles with a more \n",
                "# common name or classify them as Rare.\n",
                "for dataset in combine:\n",
                "    dataset['Title'] = dataset['Title'].replace(['Lady', 'Countess','Capt', 'Col',\\\n",
                " \t'Don', 'Dr', 'Major', 'Rev', 'Sir', 'Jonkheer', 'Dona'], 'Rare') \n",
                "    dataset['Title'] = dataset['Title'].replace('Mlle', 'Miss')\n",
                "    dataset['Title'] = dataset['Title'].replace('Ms', 'Miss')\n",
                "    dataset['Title'] = dataset['Title'].replace('Mme', 'Mrs')\n",
                "    #TODO: Write code to replace the remaining titles with 'Rare'.\n",
                "    #Note: In the replace function, you can group multiple items using brackets.\n",
                "    # Example: replace(['Rev','Major'], 'Rare')\n",
                "    \n",
                "    \n",
                "train_df[['Title', 'Survived']].groupby(['Title'], as_index=False).mean()"
            ]
        },
        {
            "cell_type": "code",
            "execution_count": 251,
            "metadata": {},
            "outputs": [
                {
                    "data": {
                        "text/html": "\u003cdiv\u003e\n\u003cstyle scoped\u003e\n    .dataframe tbody tr th:only-of-type {\n        vertical-align: middle;\n    }\n\n    .dataframe tbody tr th {\n        vertical-align: top;\n    }\n\n    .dataframe thead th {\n        text-align: right;\n    }\n\u003c/style\u003e\n\u003ctable border=\"1\" class=\"dataframe\"\u003e\n  \u003cthead\u003e\n    \u003ctr style=\"text-align: right;\"\u003e\n      \u003cth\u003e\u003c/th\u003e\n      \u003cth\u003eSurvived\u003c/th\u003e\n      \u003cth\u003ePclass\u003c/th\u003e\n      \u003cth\u003eName\u003c/th\u003e\n      \u003cth\u003eSex\u003c/th\u003e\n      \u003cth\u003eAge\u003c/th\u003e\n      \u003cth\u003eSibSp\u003c/th\u003e\n      \u003cth\u003eParch\u003c/th\u003e\n      \u003cth\u003eFare\u003c/th\u003e\n      \u003cth\u003eEmbarked\u003c/th\u003e\n      \u003cth\u003eTitle\u003c/th\u003e\n    \u003c/tr\u003e\n  \u003c/thead\u003e\n  \u003ctbody\u003e\n    \u003ctr\u003e\n      \u003cth\u003e0\u003c/th\u003e\n      \u003ctd\u003e0\u003c/td\u003e\n      \u003ctd\u003e3\u003c/td\u003e\n      \u003ctd\u003eBraund, Mr. Owen Harris\u003c/td\u003e\n      \u003ctd\u003emale\u003c/td\u003e\n      \u003ctd\u003e22.0\u003c/td\u003e\n      \u003ctd\u003e1\u003c/td\u003e\n      \u003ctd\u003e0\u003c/td\u003e\n      \u003ctd\u003e7.2500\u003c/td\u003e\n      \u003ctd\u003eS\u003c/td\u003e\n      \u003ctd\u003e1\u003c/td\u003e\n    \u003c/tr\u003e\n    \u003ctr\u003e\n      \u003cth\u003e1\u003c/th\u003e\n      \u003ctd\u003e1\u003c/td\u003e\n      \u003ctd\u003e1\u003c/td\u003e\n      \u003ctd\u003eCumings, Mrs. John Bradley (Florence Briggs Th...\u003c/td\u003e\n      \u003ctd\u003efemale\u003c/td\u003e\n      \u003ctd\u003e38.0\u003c/td\u003e\n      \u003ctd\u003e1\u003c/td\u003e\n      \u003ctd\u003e0\u003c/td\u003e\n      \u003ctd\u003e71.2833\u003c/td\u003e\n      \u003ctd\u003eC\u003c/td\u003e\n      \u003ctd\u003e3\u003c/td\u003e\n    \u003c/tr\u003e\n    \u003ctr\u003e\n      \u003cth\u003e2\u003c/th\u003e\n      \u003ctd\u003e1\u003c/td\u003e\n      \u003ctd\u003e3\u003c/td\u003e\n      \u003ctd\u003eHeikkinen, Miss. Laina\u003c/td\u003e\n      \u003ctd\u003efemale\u003c/td\u003e\n      \u003ctd\u003e26.0\u003c/td\u003e\n      \u003ctd\u003e0\u003c/td\u003e\n      \u003ctd\u003e0\u003c/td\u003e\n      \u003ctd\u003e7.9250\u003c/td\u003e\n      \u003ctd\u003eS\u003c/td\u003e\n      \u003ctd\u003e2\u003c/td\u003e\n    \u003c/tr\u003e\n    \u003ctr\u003e\n      \u003cth\u003e3\u003c/th\u003e\n      \u003ctd\u003e1\u003c/td\u003e\n      \u003ctd\u003e1\u003c/td\u003e\n      \u003ctd\u003eFutrelle, Mrs. Jacques Heath (Lily May Peel)\u003c/td\u003e\n      \u003ctd\u003efemale\u003c/td\u003e\n      \u003ctd\u003e35.0\u003c/td\u003e\n      \u003ctd\u003e1\u003c/td\u003e\n      \u003ctd\u003e0\u003c/td\u003e\n      \u003ctd\u003e53.1000\u003c/td\u003e\n      \u003ctd\u003eS\u003c/td\u003e\n      \u003ctd\u003e3\u003c/td\u003e\n    \u003c/tr\u003e\n    \u003ctr\u003e\n      \u003cth\u003e4\u003c/th\u003e\n      \u003ctd\u003e0\u003c/td\u003e\n      \u003ctd\u003e3\u003c/td\u003e\n      \u003ctd\u003eAllen, Mr. William Henry\u003c/td\u003e\n      \u003ctd\u003emale\u003c/td\u003e\n      \u003ctd\u003e35.0\u003c/td\u003e\n      \u003ctd\u003e0\u003c/td\u003e\n      \u003ctd\u003e0\u003c/td\u003e\n      \u003ctd\u003e8.0500\u003c/td\u003e\n      \u003ctd\u003eS\u003c/td\u003e\n      \u003ctd\u003e1\u003c/td\u003e\n    \u003c/tr\u003e\n  \u003c/tbody\u003e\n\u003c/table\u003e\n\u003c/div\u003e",
                        "text/plain": "   Survived  Pclass                                               Name  \\\n0         0       3                            Braund, Mr. Owen Harris   \n1         1       1  Cumings, Mrs. John Bradley (Florence Briggs Th...   \n2         1       3                             Heikkinen, Miss. Laina   \n3         1       1       Futrelle, Mrs. Jacques Heath (Lily May Peel)   \n4         0       3                           Allen, Mr. William Henry   \n\n      Sex   Age  SibSp  Parch     Fare Embarked  Title  \n0    male  22.0      1      0   7.2500        S      1  \n1  female  38.0      1      0  71.2833        C      3  \n2  female  26.0      0      0   7.9250        S      2  \n3  female  35.0      1      0  53.1000        S      3  \n4    male  35.0      0      0   8.0500        S      1  "
                    },
                    "execution_count": 251,
                    "metadata": {},
                    "output_type": "execute_result"
                }
            ],
            "source": [
                "# Convert the categorical titles to ordinal.\n",
                "title_mapping = {\"Mr\": 1, \"Miss\": 2, \"Mrs\": 3, \"Master\": 4, \"Rare\": 5}\n",
                "for dataset in combine:\n",
                "    dataset['Title'] = dataset['Title'].map(title_mapping)\n",
                "    dataset['Title'] = dataset['Title'].fillna(0)\n",
                "\n",
                "#TODO: Write code to inspect the first five rows of train_df\n",
                "train_df.head()"
            ]
        },
        {
            "cell_type": "code",
            "execution_count": 252,
            "metadata": {},
            "outputs": [
                {
                    "data": {
                        "text/plain": "((891, 9), (418, 9))"
                    },
                    "execution_count": 252,
                    "metadata": {},
                    "output_type": "execute_result"
                }
            ],
            "source": [
                "# Safely drop the Name feature from training and testing datasets. \n",
                "train_df = train_df.drop(['Name'], axis=1)\n",
                "test_df = test_df.drop(['Name'], axis=1)\n",
                "\n",
                "# Recreate the combine data frame with the new values of train_df and test_df\n",
                "combine = [train_df, test_df]\n",
                "\n",
                "#TODO: Write code to inspect the new shape of both data frames\n",
                "train_df.shape,test_df.shape"
            ]
        },
        {
            "attachments": {},
            "cell_type": "markdown",
            "metadata": {},
            "source": [
                "**3. Converting**\n",
                "\n",
                "convert features which contain strings to numerical values. This is required by most model algorithms. Doing so will also help us in achieving the feature completing goal.\n",
                "\n",
                ""
            ]
        },
        {
            "cell_type": "code",
            "execution_count": 253,
            "metadata": {},
            "outputs": [
                {
                    "data": {
                        "text/html": "\u003cdiv\u003e\n\u003cstyle scoped\u003e\n    .dataframe tbody tr th:only-of-type {\n        vertical-align: middle;\n    }\n\n    .dataframe tbody tr th {\n        vertical-align: top;\n    }\n\n    .dataframe thead th {\n        text-align: right;\n    }\n\u003c/style\u003e\n\u003ctable border=\"1\" class=\"dataframe\"\u003e\n  \u003cthead\u003e\n    \u003ctr style=\"text-align: right;\"\u003e\n      \u003cth\u003e\u003c/th\u003e\n      \u003cth\u003eSurvived\u003c/th\u003e\n      \u003cth\u003ePclass\u003c/th\u003e\n      \u003cth\u003eSex\u003c/th\u003e\n      \u003cth\u003eAge\u003c/th\u003e\n      \u003cth\u003eSibSp\u003c/th\u003e\n      \u003cth\u003eParch\u003c/th\u003e\n      \u003cth\u003eFare\u003c/th\u003e\n      \u003cth\u003eEmbarked\u003c/th\u003e\n      \u003cth\u003eTitle\u003c/th\u003e\n    \u003c/tr\u003e\n  \u003c/thead\u003e\n  \u003ctbody\u003e\n    \u003ctr\u003e\n      \u003cth\u003e0\u003c/th\u003e\n      \u003ctd\u003e0\u003c/td\u003e\n      \u003ctd\u003e3\u003c/td\u003e\n      \u003ctd\u003e0\u003c/td\u003e\n      \u003ctd\u003e22.0\u003c/td\u003e\n      \u003ctd\u003e1\u003c/td\u003e\n      \u003ctd\u003e0\u003c/td\u003e\n      \u003ctd\u003e7.2500\u003c/td\u003e\n      \u003ctd\u003eS\u003c/td\u003e\n      \u003ctd\u003e1\u003c/td\u003e\n    \u003c/tr\u003e\n    \u003ctr\u003e\n      \u003cth\u003e1\u003c/th\u003e\n      \u003ctd\u003e1\u003c/td\u003e\n      \u003ctd\u003e1\u003c/td\u003e\n      \u003ctd\u003e1\u003c/td\u003e\n      \u003ctd\u003e38.0\u003c/td\u003e\n      \u003ctd\u003e1\u003c/td\u003e\n      \u003ctd\u003e0\u003c/td\u003e\n      \u003ctd\u003e71.2833\u003c/td\u003e\n      \u003ctd\u003eC\u003c/td\u003e\n      \u003ctd\u003e3\u003c/td\u003e\n    \u003c/tr\u003e\n    \u003ctr\u003e\n      \u003cth\u003e2\u003c/th\u003e\n      \u003ctd\u003e1\u003c/td\u003e\n      \u003ctd\u003e3\u003c/td\u003e\n      \u003ctd\u003e1\u003c/td\u003e\n      \u003ctd\u003e26.0\u003c/td\u003e\n      \u003ctd\u003e0\u003c/td\u003e\n      \u003ctd\u003e0\u003c/td\u003e\n      \u003ctd\u003e7.9250\u003c/td\u003e\n      \u003ctd\u003eS\u003c/td\u003e\n      \u003ctd\u003e2\u003c/td\u003e\n    \u003c/tr\u003e\n    \u003ctr\u003e\n      \u003cth\u003e3\u003c/th\u003e\n      \u003ctd\u003e1\u003c/td\u003e\n      \u003ctd\u003e1\u003c/td\u003e\n      \u003ctd\u003e1\u003c/td\u003e\n      \u003ctd\u003e35.0\u003c/td\u003e\n      \u003ctd\u003e1\u003c/td\u003e\n      \u003ctd\u003e0\u003c/td\u003e\n      \u003ctd\u003e53.1000\u003c/td\u003e\n      \u003ctd\u003eS\u003c/td\u003e\n      \u003ctd\u003e3\u003c/td\u003e\n    \u003c/tr\u003e\n    \u003ctr\u003e\n      \u003cth\u003e4\u003c/th\u003e\n      \u003ctd\u003e0\u003c/td\u003e\n      \u003ctd\u003e3\u003c/td\u003e\n      \u003ctd\u003e0\u003c/td\u003e\n      \u003ctd\u003e35.0\u003c/td\u003e\n      \u003ctd\u003e0\u003c/td\u003e\n      \u003ctd\u003e0\u003c/td\u003e\n      \u003ctd\u003e8.0500\u003c/td\u003e\n      \u003ctd\u003eS\u003c/td\u003e\n      \u003ctd\u003e1\u003c/td\u003e\n    \u003c/tr\u003e\n  \u003c/tbody\u003e\n\u003c/table\u003e\n\u003c/div\u003e",
                        "text/plain": "   Survived  Pclass  Sex   Age  SibSp  Parch     Fare Embarked  Title\n0         0       3    0  22.0      1      0   7.2500        S      1\n1         1       1    1  38.0      1      0  71.2833        C      3\n2         1       3    1  26.0      0      0   7.9250        S      2\n3         1       1    1  35.0      1      0  53.1000        S      3\n4         0       3    0  35.0      0      0   8.0500        S      1"
                    },
                    "execution_count": 253,
                    "metadata": {},
                    "output_type": "execute_result"
                }
            ],
            "source": [
                "# Convert Sex feature to a new feature called Gender where \n",
                "# female=1 and male=0.\n",
                "for dataset in combine:\n",
                "    dataset['Sex'] = dataset['Sex'].map( {'female': 1, 'male': 0} ).astype(int)\n",
                "\n",
                "#TODO: Write code to inspect the first five rows of train_df\n",
                "train_df.head()"
            ]
        },
        {
            "attachments": {},
            "cell_type": "markdown",
            "metadata": {},
            "source": [
                "**4. Completing**"
            ]
        },
        {
            "attachments": {},
            "cell_type": "markdown",
            "metadata": {},
            "source": [
                "**4.a.** Complete Age feature for null values, as it is definitely correlated to survival.\n",
                "* Guess missing values using other correlated features. \n",
                "* We note correlation among Age, Gender, and Pclass. \n",
                "* Guess Age values using median values for Age across sets of Pclass and Gender feature combinations. \n",
                "* So, median Age for Pclass=1 and Gender=0, Pclass=1 and Gender=1, etc"
            ]
        },
        {
            "cell_type": "code",
            "execution_count": 254,
            "metadata": {},
            "outputs": [
                {
                    "data": {
                        "text/plain": "array([[0., 0., 0.],\n       [0., 0., 0.]])"
                    },
                    "execution_count": 254,
                    "metadata": {},
                    "output_type": "execute_result"
                }
            ],
            "source": [
                "# Prepare an empty array to contain guessed Age values based on \n",
                "# Pclass x Gender combinations.\n",
                "guess_ages = np.zeros((2,3))\n",
                "guess_ages"
            ]
        },
        {
            "cell_type": "code",
            "execution_count": 255,
            "metadata": {},
            "outputs": [
                {
                    "data": {
                        "text/html": "\u003cdiv\u003e\n\u003cstyle scoped\u003e\n    .dataframe tbody tr th:only-of-type {\n        vertical-align: middle;\n    }\n\n    .dataframe tbody tr th {\n        vertical-align: top;\n    }\n\n    .dataframe thead th {\n        text-align: right;\n    }\n\u003c/style\u003e\n\u003ctable border=\"1\" class=\"dataframe\"\u003e\n  \u003cthead\u003e\n    \u003ctr style=\"text-align: right;\"\u003e\n      \u003cth\u003e\u003c/th\u003e\n      \u003cth\u003eSurvived\u003c/th\u003e\n      \u003cth\u003ePclass\u003c/th\u003e\n      \u003cth\u003eSex\u003c/th\u003e\n      \u003cth\u003eAge\u003c/th\u003e\n      \u003cth\u003eSibSp\u003c/th\u003e\n      \u003cth\u003eParch\u003c/th\u003e\n      \u003cth\u003eFare\u003c/th\u003e\n      \u003cth\u003eEmbarked\u003c/th\u003e\n      \u003cth\u003eTitle\u003c/th\u003e\n    \u003c/tr\u003e\n  \u003c/thead\u003e\n  \u003ctbody\u003e\n    \u003ctr\u003e\n      \u003cth\u003e0\u003c/th\u003e\n      \u003ctd\u003e0\u003c/td\u003e\n      \u003ctd\u003e3\u003c/td\u003e\n      \u003ctd\u003e0\u003c/td\u003e\n      \u003ctd\u003e22\u003c/td\u003e\n      \u003ctd\u003e1\u003c/td\u003e\n      \u003ctd\u003e0\u003c/td\u003e\n      \u003ctd\u003e7.2500\u003c/td\u003e\n      \u003ctd\u003eS\u003c/td\u003e\n      \u003ctd\u003e1\u003c/td\u003e\n    \u003c/tr\u003e\n    \u003ctr\u003e\n      \u003cth\u003e1\u003c/th\u003e\n      \u003ctd\u003e1\u003c/td\u003e\n      \u003ctd\u003e1\u003c/td\u003e\n      \u003ctd\u003e1\u003c/td\u003e\n      \u003ctd\u003e38\u003c/td\u003e\n      \u003ctd\u003e1\u003c/td\u003e\n      \u003ctd\u003e0\u003c/td\u003e\n      \u003ctd\u003e71.2833\u003c/td\u003e\n      \u003ctd\u003eC\u003c/td\u003e\n      \u003ctd\u003e3\u003c/td\u003e\n    \u003c/tr\u003e\n    \u003ctr\u003e\n      \u003cth\u003e2\u003c/th\u003e\n      \u003ctd\u003e1\u003c/td\u003e\n      \u003ctd\u003e3\u003c/td\u003e\n      \u003ctd\u003e1\u003c/td\u003e\n      \u003ctd\u003e26\u003c/td\u003e\n      \u003ctd\u003e0\u003c/td\u003e\n      \u003ctd\u003e0\u003c/td\u003e\n      \u003ctd\u003e7.9250\u003c/td\u003e\n      \u003ctd\u003eS\u003c/td\u003e\n      \u003ctd\u003e2\u003c/td\u003e\n    \u003c/tr\u003e\n    \u003ctr\u003e\n      \u003cth\u003e3\u003c/th\u003e\n      \u003ctd\u003e1\u003c/td\u003e\n      \u003ctd\u003e1\u003c/td\u003e\n      \u003ctd\u003e1\u003c/td\u003e\n      \u003ctd\u003e35\u003c/td\u003e\n      \u003ctd\u003e1\u003c/td\u003e\n      \u003ctd\u003e0\u003c/td\u003e\n      \u003ctd\u003e53.1000\u003c/td\u003e\n      \u003ctd\u003eS\u003c/td\u003e\n      \u003ctd\u003e3\u003c/td\u003e\n    \u003c/tr\u003e\n    \u003ctr\u003e\n      \u003cth\u003e4\u003c/th\u003e\n      \u003ctd\u003e0\u003c/td\u003e\n      \u003ctd\u003e3\u003c/td\u003e\n      \u003ctd\u003e0\u003c/td\u003e\n      \u003ctd\u003e35\u003c/td\u003e\n      \u003ctd\u003e0\u003c/td\u003e\n      \u003ctd\u003e0\u003c/td\u003e\n      \u003ctd\u003e8.0500\u003c/td\u003e\n      \u003ctd\u003eS\u003c/td\u003e\n      \u003ctd\u003e1\u003c/td\u003e\n    \u003c/tr\u003e\n  \u003c/tbody\u003e\n\u003c/table\u003e\n\u003c/div\u003e",
                        "text/plain": "   Survived  Pclass  Sex  Age  SibSp  Parch     Fare Embarked  Title\n0         0       3    0   22      1      0   7.2500        S      1\n1         1       1    1   38      1      0  71.2833        C      3\n2         1       3    1   26      0      0   7.9250        S      2\n3         1       1    1   35      1      0  53.1000        S      3\n4         0       3    0   35      0      0   8.0500        S      1"
                    },
                    "execution_count": 255,
                    "metadata": {},
                    "output_type": "execute_result"
                }
            ],
            "source": [
                "# Iterate over Sex (0 or 1) and Pclass (1, 2, 3) to calculate guessed\n",
                "# values of Age for the six combinations.\n",
                "for dataset in combine:\n",
                "    for i in range(0, 2):\n",
                "        for j in range(0, 3):\n",
                "            guess_df = dataset[(dataset['Sex'] == i) \u0026 \\\n",
                "                                  (dataset['Pclass'] == j+1)]['Age'].dropna()\n",
                "\n",
                "            age_guess = guess_df.median()\n",
                "\n",
                "            # Convert random age float to nearest .5 age\n",
                "            guess_ages[i,j] = int( age_guess/0.5 + 0.5 ) * 0.5\n",
                "            \n",
                "    for i in range(0, 2):\n",
                "        for j in range(0, 3):\n",
                "            dataset.loc[ (dataset.Age.isnull()) \u0026 (dataset.Sex == i) \u0026 (dataset.Pclass == j+1),\\\n",
                "                    'Age'] = guess_ages[i,j]\n",
                "\n",
                "    dataset['Age'] = dataset['Age'].astype(int)\n",
                "\n",
                "#TODO: Write code to inspect the first five rows of train_df\n",
                "train_df.head()"
            ]
        },
        {
            "cell_type": "code",
            "execution_count": 256,
            "metadata": {},
            "outputs": [
                {
                    "data": {
                        "text/html": "\u003cdiv\u003e\n\u003cstyle scoped\u003e\n    .dataframe tbody tr th:only-of-type {\n        vertical-align: middle;\n    }\n\n    .dataframe tbody tr th {\n        vertical-align: top;\n    }\n\n    .dataframe thead th {\n        text-align: right;\n    }\n\u003c/style\u003e\n\u003ctable border=\"1\" class=\"dataframe\"\u003e\n  \u003cthead\u003e\n    \u003ctr style=\"text-align: right;\"\u003e\n      \u003cth\u003e\u003c/th\u003e\n      \u003cth\u003eAgeBand\u003c/th\u003e\n      \u003cth\u003eSurvived\u003c/th\u003e\n    \u003c/tr\u003e\n  \u003c/thead\u003e\n  \u003ctbody\u003e\n    \u003ctr\u003e\n      \u003cth\u003e0\u003c/th\u003e\n      \u003ctd\u003e(-0.08, 16.0]\u003c/td\u003e\n      \u003ctd\u003e0.550000\u003c/td\u003e\n    \u003c/tr\u003e\n    \u003ctr\u003e\n      \u003cth\u003e1\u003c/th\u003e\n      \u003ctd\u003e(16.0, 32.0]\u003c/td\u003e\n      \u003ctd\u003e0.337374\u003c/td\u003e\n    \u003c/tr\u003e\n    \u003ctr\u003e\n      \u003cth\u003e2\u003c/th\u003e\n      \u003ctd\u003e(32.0, 48.0]\u003c/td\u003e\n      \u003ctd\u003e0.412037\u003c/td\u003e\n    \u003c/tr\u003e\n    \u003ctr\u003e\n      \u003cth\u003e3\u003c/th\u003e\n      \u003ctd\u003e(48.0, 64.0]\u003c/td\u003e\n      \u003ctd\u003e0.434783\u003c/td\u003e\n    \u003c/tr\u003e\n    \u003ctr\u003e\n      \u003cth\u003e4\u003c/th\u003e\n      \u003ctd\u003e(64.0, 80.0]\u003c/td\u003e\n      \u003ctd\u003e0.090909\u003c/td\u003e\n    \u003c/tr\u003e\n  \u003c/tbody\u003e\n\u003c/table\u003e\n\u003c/div\u003e",
                        "text/plain": "         AgeBand  Survived\n0  (-0.08, 16.0]  0.550000\n1   (16.0, 32.0]  0.337374\n2   (32.0, 48.0]  0.412037\n3   (48.0, 64.0]  0.434783\n4   (64.0, 80.0]  0.090909"
                    },
                    "execution_count": 256,
                    "metadata": {},
                    "output_type": "execute_result"
                }
            ],
            "source": [
                "# Create Age bands and determine correlations with Survived.\n",
                "train_df['AgeBand'] = pd.cut(train_df['Age'], 5)\n",
                "train_df[['AgeBand', 'Survived']].groupby(['AgeBand'], \n",
                "as_index=False).mean().sort_values(by='AgeBand', ascending=True)"
            ]
        },
        {
            "cell_type": "code",
            "execution_count": 257,
            "metadata": {},
            "outputs": [
                {
                    "data": {
                        "text/html": "\u003cdiv\u003e\n\u003cstyle scoped\u003e\n    .dataframe tbody tr th:only-of-type {\n        vertical-align: middle;\n    }\n\n    .dataframe tbody tr th {\n        vertical-align: top;\n    }\n\n    .dataframe thead th {\n        text-align: right;\n    }\n\u003c/style\u003e\n\u003ctable border=\"1\" class=\"dataframe\"\u003e\n  \u003cthead\u003e\n    \u003ctr style=\"text-align: right;\"\u003e\n      \u003cth\u003e\u003c/th\u003e\n      \u003cth\u003eSurvived\u003c/th\u003e\n      \u003cth\u003ePclass\u003c/th\u003e\n      \u003cth\u003eSex\u003c/th\u003e\n      \u003cth\u003eAge\u003c/th\u003e\n      \u003cth\u003eSibSp\u003c/th\u003e\n      \u003cth\u003eParch\u003c/th\u003e\n      \u003cth\u003eFare\u003c/th\u003e\n      \u003cth\u003eEmbarked\u003c/th\u003e\n      \u003cth\u003eTitle\u003c/th\u003e\n      \u003cth\u003eAgeBand\u003c/th\u003e\n    \u003c/tr\u003e\n  \u003c/thead\u003e\n  \u003ctbody\u003e\n    \u003ctr\u003e\n      \u003cth\u003e0\u003c/th\u003e\n      \u003ctd\u003e0\u003c/td\u003e\n      \u003ctd\u003e3\u003c/td\u003e\n      \u003ctd\u003e0\u003c/td\u003e\n      \u003ctd\u003e1\u003c/td\u003e\n      \u003ctd\u003e1\u003c/td\u003e\n      \u003ctd\u003e0\u003c/td\u003e\n      \u003ctd\u003e7.2500\u003c/td\u003e\n      \u003ctd\u003eS\u003c/td\u003e\n      \u003ctd\u003e1\u003c/td\u003e\n      \u003ctd\u003e(16.0, 32.0]\u003c/td\u003e\n    \u003c/tr\u003e\n    \u003ctr\u003e\n      \u003cth\u003e1\u003c/th\u003e\n      \u003ctd\u003e1\u003c/td\u003e\n      \u003ctd\u003e1\u003c/td\u003e\n      \u003ctd\u003e1\u003c/td\u003e\n      \u003ctd\u003e2\u003c/td\u003e\n      \u003ctd\u003e1\u003c/td\u003e\n      \u003ctd\u003e0\u003c/td\u003e\n      \u003ctd\u003e71.2833\u003c/td\u003e\n      \u003ctd\u003eC\u003c/td\u003e\n      \u003ctd\u003e3\u003c/td\u003e\n      \u003ctd\u003e(32.0, 48.0]\u003c/td\u003e\n    \u003c/tr\u003e\n    \u003ctr\u003e\n      \u003cth\u003e2\u003c/th\u003e\n      \u003ctd\u003e1\u003c/td\u003e\n      \u003ctd\u003e3\u003c/td\u003e\n      \u003ctd\u003e1\u003c/td\u003e\n      \u003ctd\u003e1\u003c/td\u003e\n      \u003ctd\u003e0\u003c/td\u003e\n      \u003ctd\u003e0\u003c/td\u003e\n      \u003ctd\u003e7.9250\u003c/td\u003e\n      \u003ctd\u003eS\u003c/td\u003e\n      \u003ctd\u003e2\u003c/td\u003e\n      \u003ctd\u003e(16.0, 32.0]\u003c/td\u003e\n    \u003c/tr\u003e\n    \u003ctr\u003e\n      \u003cth\u003e3\u003c/th\u003e\n      \u003ctd\u003e1\u003c/td\u003e\n      \u003ctd\u003e1\u003c/td\u003e\n      \u003ctd\u003e1\u003c/td\u003e\n      \u003ctd\u003e2\u003c/td\u003e\n      \u003ctd\u003e1\u003c/td\u003e\n      \u003ctd\u003e0\u003c/td\u003e\n      \u003ctd\u003e53.1000\u003c/td\u003e\n      \u003ctd\u003eS\u003c/td\u003e\n      \u003ctd\u003e3\u003c/td\u003e\n      \u003ctd\u003e(32.0, 48.0]\u003c/td\u003e\n    \u003c/tr\u003e\n    \u003ctr\u003e\n      \u003cth\u003e4\u003c/th\u003e\n      \u003ctd\u003e0\u003c/td\u003e\n      \u003ctd\u003e3\u003c/td\u003e\n      \u003ctd\u003e0\u003c/td\u003e\n      \u003ctd\u003e2\u003c/td\u003e\n      \u003ctd\u003e0\u003c/td\u003e\n      \u003ctd\u003e0\u003c/td\u003e\n      \u003ctd\u003e8.0500\u003c/td\u003e\n      \u003ctd\u003eS\u003c/td\u003e\n      \u003ctd\u003e1\u003c/td\u003e\n      \u003ctd\u003e(32.0, 48.0]\u003c/td\u003e\n    \u003c/tr\u003e\n  \u003c/tbody\u003e\n\u003c/table\u003e\n\u003c/div\u003e",
                        "text/plain": "   Survived  Pclass  Sex  Age  SibSp  Parch     Fare Embarked  Title  \\\n0         0       3    0    1      1      0   7.2500        S      1   \n1         1       1    1    2      1      0  71.2833        C      3   \n2         1       3    1    1      0      0   7.9250        S      2   \n3         1       1    1    2      1      0  53.1000        S      3   \n4         0       3    0    2      0      0   8.0500        S      1   \n\n        AgeBand  \n0  (16.0, 32.0]  \n1  (32.0, 48.0]  \n2  (16.0, 32.0]  \n3  (32.0, 48.0]  \n4  (32.0, 48.0]  "
                    },
                    "execution_count": 257,
                    "metadata": {},
                    "output_type": "execute_result"
                }
            ],
            "source": [
                "# Replace Age with ordinals based on these bands.\n",
                "for dataset in combine:    \n",
                "    dataset.loc[ dataset['Age'] \u003c= 16, 'Age'] = 0\n",
                "    dataset.loc[(dataset['Age'] \u003e 16) \u0026 (dataset['Age'] \u003c= 32), 'Age'] = 1\n",
                "    dataset.loc[(dataset['Age'] \u003e 32) \u0026 (dataset['Age'] \u003c= 48), 'Age'] = 2\n",
                "    dataset.loc[(dataset['Age'] \u003e 48) \u0026 (dataset['Age'] \u003c= 64), 'Age'] = 3\n",
                "    dataset.loc[ dataset['Age'] \u003e 64, 'Age']\n",
                "    \n",
                "#TODO: Write code to inspect the first five rows of train_df\n",
                "train_df.head()"
            ]
        },
        {
            "cell_type": "code",
            "execution_count": 258,
            "metadata": {},
            "outputs": [
                {
                    "data": {
                        "text/html": "\u003cdiv\u003e\n\u003cstyle scoped\u003e\n    .dataframe tbody tr th:only-of-type {\n        vertical-align: middle;\n    }\n\n    .dataframe tbody tr th {\n        vertical-align: top;\n    }\n\n    .dataframe thead th {\n        text-align: right;\n    }\n\u003c/style\u003e\n\u003ctable border=\"1\" class=\"dataframe\"\u003e\n  \u003cthead\u003e\n    \u003ctr style=\"text-align: right;\"\u003e\n      \u003cth\u003e\u003c/th\u003e\n      \u003cth\u003eSurvived\u003c/th\u003e\n      \u003cth\u003ePclass\u003c/th\u003e\n      \u003cth\u003eSex\u003c/th\u003e\n      \u003cth\u003eAge\u003c/th\u003e\n      \u003cth\u003eSibSp\u003c/th\u003e\n      \u003cth\u003eParch\u003c/th\u003e\n      \u003cth\u003eFare\u003c/th\u003e\n      \u003cth\u003eEmbarked\u003c/th\u003e\n      \u003cth\u003eTitle\u003c/th\u003e\n    \u003c/tr\u003e\n  \u003c/thead\u003e\n  \u003ctbody\u003e\n    \u003ctr\u003e\n      \u003cth\u003e0\u003c/th\u003e\n      \u003ctd\u003e0\u003c/td\u003e\n      \u003ctd\u003e3\u003c/td\u003e\n      \u003ctd\u003e0\u003c/td\u003e\n      \u003ctd\u003e1\u003c/td\u003e\n      \u003ctd\u003e1\u003c/td\u003e\n      \u003ctd\u003e0\u003c/td\u003e\n      \u003ctd\u003e7.2500\u003c/td\u003e\n      \u003ctd\u003eS\u003c/td\u003e\n      \u003ctd\u003e1\u003c/td\u003e\n    \u003c/tr\u003e\n    \u003ctr\u003e\n      \u003cth\u003e1\u003c/th\u003e\n      \u003ctd\u003e1\u003c/td\u003e\n      \u003ctd\u003e1\u003c/td\u003e\n      \u003ctd\u003e1\u003c/td\u003e\n      \u003ctd\u003e2\u003c/td\u003e\n      \u003ctd\u003e1\u003c/td\u003e\n      \u003ctd\u003e0\u003c/td\u003e\n      \u003ctd\u003e71.2833\u003c/td\u003e\n      \u003ctd\u003eC\u003c/td\u003e\n      \u003ctd\u003e3\u003c/td\u003e\n    \u003c/tr\u003e\n    \u003ctr\u003e\n      \u003cth\u003e2\u003c/th\u003e\n      \u003ctd\u003e1\u003c/td\u003e\n      \u003ctd\u003e3\u003c/td\u003e\n      \u003ctd\u003e1\u003c/td\u003e\n      \u003ctd\u003e1\u003c/td\u003e\n      \u003ctd\u003e0\u003c/td\u003e\n      \u003ctd\u003e0\u003c/td\u003e\n      \u003ctd\u003e7.9250\u003c/td\u003e\n      \u003ctd\u003eS\u003c/td\u003e\n      \u003ctd\u003e2\u003c/td\u003e\n    \u003c/tr\u003e\n    \u003ctr\u003e\n      \u003cth\u003e3\u003c/th\u003e\n      \u003ctd\u003e1\u003c/td\u003e\n      \u003ctd\u003e1\u003c/td\u003e\n      \u003ctd\u003e1\u003c/td\u003e\n      \u003ctd\u003e2\u003c/td\u003e\n      \u003ctd\u003e1\u003c/td\u003e\n      \u003ctd\u003e0\u003c/td\u003e\n      \u003ctd\u003e53.1000\u003c/td\u003e\n      \u003ctd\u003eS\u003c/td\u003e\n      \u003ctd\u003e3\u003c/td\u003e\n    \u003c/tr\u003e\n    \u003ctr\u003e\n      \u003cth\u003e4\u003c/th\u003e\n      \u003ctd\u003e0\u003c/td\u003e\n      \u003ctd\u003e3\u003c/td\u003e\n      \u003ctd\u003e0\u003c/td\u003e\n      \u003ctd\u003e2\u003c/td\u003e\n      \u003ctd\u003e0\u003c/td\u003e\n      \u003ctd\u003e0\u003c/td\u003e\n      \u003ctd\u003e8.0500\u003c/td\u003e\n      \u003ctd\u003eS\u003c/td\u003e\n      \u003ctd\u003e1\u003c/td\u003e\n    \u003c/tr\u003e\n  \u003c/tbody\u003e\n\u003c/table\u003e\n\u003c/div\u003e",
                        "text/plain": "   Survived  Pclass  Sex  Age  SibSp  Parch     Fare Embarked  Title\n0         0       3    0    1      1      0   7.2500        S      1\n1         1       1    1    2      1      0  71.2833        C      3\n2         1       3    1    1      0      0   7.9250        S      2\n3         1       1    1    2      1      0  53.1000        S      3\n4         0       3    0    2      0      0   8.0500        S      1"
                    },
                    "execution_count": 258,
                    "metadata": {},
                    "output_type": "execute_result"
                }
            ],
            "source": [
                "# Now it's safe to remove the AgeBand feature from the training data\n",
                "train_df = train_df.drop(['AgeBand'], axis=1)\n",
                "combine = [train_df, test_df]\n",
                "\n",
                "#TODO: Write code to inspect the first five rows of train_df\n",
                "train_df.head()"
            ]
        },
        {
            "attachments": {},
            "cell_type": "markdown",
            "metadata": {},
            "source": [
                "**4.b.** Complete the Embarked feature as it may also correlate with survival or another important feature."
            ]
        },
        {
            "attachments": {},
            "cell_type": "markdown",
            "metadata": {},
            "source": [
                "Embarked feature takes S, Q, C values based on port of embarkation. Our training dataset has two missing values. We simply fill these with the most common occurance."
            ]
        },
        {
            "cell_type": "code",
            "execution_count": 259,
            "metadata": {},
            "outputs": [
                {
                    "data": {
                        "text/html": "\u003cdiv\u003e\n\u003cstyle scoped\u003e\n    .dataframe tbody tr th:only-of-type {\n        vertical-align: middle;\n    }\n\n    .dataframe tbody tr th {\n        vertical-align: top;\n    }\n\n    .dataframe thead th {\n        text-align: right;\n    }\n\u003c/style\u003e\n\u003ctable border=\"1\" class=\"dataframe\"\u003e\n  \u003cthead\u003e\n    \u003ctr style=\"text-align: right;\"\u003e\n      \u003cth\u003e\u003c/th\u003e\n      \u003cth\u003eEmbarked\u003c/th\u003e\n      \u003cth\u003eSurvived\u003c/th\u003e\n    \u003c/tr\u003e\n  \u003c/thead\u003e\n  \u003ctbody\u003e\n    \u003ctr\u003e\n      \u003cth\u003e0\u003c/th\u003e\n      \u003ctd\u003eC\u003c/td\u003e\n      \u003ctd\u003e0.553571\u003c/td\u003e\n    \u003c/tr\u003e\n    \u003ctr\u003e\n      \u003cth\u003e1\u003c/th\u003e\n      \u003ctd\u003eQ\u003c/td\u003e\n      \u003ctd\u003e0.389610\u003c/td\u003e\n    \u003c/tr\u003e\n    \u003ctr\u003e\n      \u003cth\u003e2\u003c/th\u003e\n      \u003ctd\u003eS\u003c/td\u003e\n      \u003ctd\u003e0.339009\u003c/td\u003e\n    \u003c/tr\u003e\n  \u003c/tbody\u003e\n\u003c/table\u003e\n\u003c/div\u003e",
                        "text/plain": "  Embarked  Survived\n0        C  0.553571\n1        Q  0.389610\n2        S  0.339009"
                    },
                    "execution_count": 259,
                    "metadata": {},
                    "output_type": "execute_result"
                }
            ],
            "source": [
                "freq_port = train_df.Embarked.dropna().mode()[0]\n",
                "\n",
                "for dataset in combine:\n",
                "    dataset['Embarked'] = dataset['Embarked'].fillna(freq_port)\n",
                "    \n",
                "train_df[['Embarked', 'Survived']].groupby(['Embarked'], as_index=False).mean().sort_values(by='Survived', ascending=False)"
            ]
        },
        {
            "cell_type": "code",
            "execution_count": 260,
            "metadata": {},
            "outputs": [
                {
                    "data": {
                        "text/html": "\u003cdiv\u003e\n\u003cstyle scoped\u003e\n    .dataframe tbody tr th:only-of-type {\n        vertical-align: middle;\n    }\n\n    .dataframe tbody tr th {\n        vertical-align: top;\n    }\n\n    .dataframe thead th {\n        text-align: right;\n    }\n\u003c/style\u003e\n\u003ctable border=\"1\" class=\"dataframe\"\u003e\n  \u003cthead\u003e\n    \u003ctr style=\"text-align: right;\"\u003e\n      \u003cth\u003e\u003c/th\u003e\n      \u003cth\u003eSurvived\u003c/th\u003e\n      \u003cth\u003ePclass\u003c/th\u003e\n      \u003cth\u003eSex\u003c/th\u003e\n      \u003cth\u003eAge\u003c/th\u003e\n      \u003cth\u003eSibSp\u003c/th\u003e\n      \u003cth\u003eParch\u003c/th\u003e\n      \u003cth\u003eFare\u003c/th\u003e\n      \u003cth\u003eEmbarked\u003c/th\u003e\n      \u003cth\u003eTitle\u003c/th\u003e\n    \u003c/tr\u003e\n  \u003c/thead\u003e\n  \u003ctbody\u003e\n    \u003ctr\u003e\n      \u003cth\u003e0\u003c/th\u003e\n      \u003ctd\u003e0\u003c/td\u003e\n      \u003ctd\u003e3\u003c/td\u003e\n      \u003ctd\u003e0\u003c/td\u003e\n      \u003ctd\u003e1\u003c/td\u003e\n      \u003ctd\u003e1\u003c/td\u003e\n      \u003ctd\u003e0\u003c/td\u003e\n      \u003ctd\u003e7.2500\u003c/td\u003e\n      \u003ctd\u003e0\u003c/td\u003e\n      \u003ctd\u003e1\u003c/td\u003e\n    \u003c/tr\u003e\n    \u003ctr\u003e\n      \u003cth\u003e1\u003c/th\u003e\n      \u003ctd\u003e1\u003c/td\u003e\n      \u003ctd\u003e1\u003c/td\u003e\n      \u003ctd\u003e1\u003c/td\u003e\n      \u003ctd\u003e2\u003c/td\u003e\n      \u003ctd\u003e1\u003c/td\u003e\n      \u003ctd\u003e0\u003c/td\u003e\n      \u003ctd\u003e71.2833\u003c/td\u003e\n      \u003ctd\u003e1\u003c/td\u003e\n      \u003ctd\u003e3\u003c/td\u003e\n    \u003c/tr\u003e\n    \u003ctr\u003e\n      \u003cth\u003e2\u003c/th\u003e\n      \u003ctd\u003e1\u003c/td\u003e\n      \u003ctd\u003e3\u003c/td\u003e\n      \u003ctd\u003e1\u003c/td\u003e\n      \u003ctd\u003e1\u003c/td\u003e\n      \u003ctd\u003e0\u003c/td\u003e\n      \u003ctd\u003e0\u003c/td\u003e\n      \u003ctd\u003e7.9250\u003c/td\u003e\n      \u003ctd\u003e0\u003c/td\u003e\n      \u003ctd\u003e2\u003c/td\u003e\n    \u003c/tr\u003e\n    \u003ctr\u003e\n      \u003cth\u003e3\u003c/th\u003e\n      \u003ctd\u003e1\u003c/td\u003e\n      \u003ctd\u003e1\u003c/td\u003e\n      \u003ctd\u003e1\u003c/td\u003e\n      \u003ctd\u003e2\u003c/td\u003e\n      \u003ctd\u003e1\u003c/td\u003e\n      \u003ctd\u003e0\u003c/td\u003e\n      \u003ctd\u003e53.1000\u003c/td\u003e\n      \u003ctd\u003e0\u003c/td\u003e\n      \u003ctd\u003e3\u003c/td\u003e\n    \u003c/tr\u003e\n    \u003ctr\u003e\n      \u003cth\u003e4\u003c/th\u003e\n      \u003ctd\u003e0\u003c/td\u003e\n      \u003ctd\u003e3\u003c/td\u003e\n      \u003ctd\u003e0\u003c/td\u003e\n      \u003ctd\u003e2\u003c/td\u003e\n      \u003ctd\u003e0\u003c/td\u003e\n      \u003ctd\u003e0\u003c/td\u003e\n      \u003ctd\u003e8.0500\u003c/td\u003e\n      \u003ctd\u003e0\u003c/td\u003e\n      \u003ctd\u003e1\u003c/td\u003e\n    \u003c/tr\u003e\n  \u003c/tbody\u003e\n\u003c/table\u003e\n\u003c/div\u003e",
                        "text/plain": "   Survived  Pclass  Sex  Age  SibSp  Parch     Fare  Embarked  Title\n0         0       3    0    1      1      0   7.2500         0      1\n1         1       1    1    2      1      0  71.2833         1      3\n2         1       3    1    1      0      0   7.9250         0      2\n3         1       1    1    2      1      0  53.1000         0      3\n4         0       3    0    2      0      0   8.0500         0      1"
                    },
                    "execution_count": 260,
                    "metadata": {},
                    "output_type": "execute_result"
                }
            ],
            "source": [
                "# Convert the EmbarkedFill feature by creating a new numeric Port feature.\n",
                "for dataset in combine:\n",
                "    dataset['Embarked'] = dataset['Embarked'].map( {'S': 0, 'C': 1, 'Q': 2} ).astype(int)\n",
                "\n",
                "#TODO: Write code to inspect the first five rows of train_df\n",
                "train_df.head()"
            ]
        },
        {
            "cell_type": "code",
            "execution_count": 261,
            "metadata": {},
            "outputs": [
                {
                    "data": {
                        "text/html": "\u003cdiv\u003e\n\u003cstyle scoped\u003e\n    .dataframe tbody tr th:only-of-type {\n        vertical-align: middle;\n    }\n\n    .dataframe tbody tr th {\n        vertical-align: top;\n    }\n\n    .dataframe thead th {\n        text-align: right;\n    }\n\u003c/style\u003e\n\u003ctable border=\"1\" class=\"dataframe\"\u003e\n  \u003cthead\u003e\n    \u003ctr style=\"text-align: right;\"\u003e\n      \u003cth\u003e\u003c/th\u003e\n      \u003cth\u003ePassengerId\u003c/th\u003e\n      \u003cth\u003ePclass\u003c/th\u003e\n      \u003cth\u003eSex\u003c/th\u003e\n      \u003cth\u003eAge\u003c/th\u003e\n      \u003cth\u003eSibSp\u003c/th\u003e\n      \u003cth\u003eParch\u003c/th\u003e\n      \u003cth\u003eFare\u003c/th\u003e\n      \u003cth\u003eEmbarked\u003c/th\u003e\n      \u003cth\u003eTitle\u003c/th\u003e\n    \u003c/tr\u003e\n  \u003c/thead\u003e\n  \u003ctbody\u003e\n    \u003ctr\u003e\n      \u003cth\u003e0\u003c/th\u003e\n      \u003ctd\u003e892\u003c/td\u003e\n      \u003ctd\u003e3\u003c/td\u003e\n      \u003ctd\u003e0\u003c/td\u003e\n      \u003ctd\u003e2\u003c/td\u003e\n      \u003ctd\u003e0\u003c/td\u003e\n      \u003ctd\u003e0\u003c/td\u003e\n      \u003ctd\u003e7.8292\u003c/td\u003e\n      \u003ctd\u003e2\u003c/td\u003e\n      \u003ctd\u003e1\u003c/td\u003e\n    \u003c/tr\u003e\n    \u003ctr\u003e\n      \u003cth\u003e1\u003c/th\u003e\n      \u003ctd\u003e893\u003c/td\u003e\n      \u003ctd\u003e3\u003c/td\u003e\n      \u003ctd\u003e1\u003c/td\u003e\n      \u003ctd\u003e2\u003c/td\u003e\n      \u003ctd\u003e1\u003c/td\u003e\n      \u003ctd\u003e0\u003c/td\u003e\n      \u003ctd\u003e7.0000\u003c/td\u003e\n      \u003ctd\u003e0\u003c/td\u003e\n      \u003ctd\u003e3\u003c/td\u003e\n    \u003c/tr\u003e\n    \u003ctr\u003e\n      \u003cth\u003e2\u003c/th\u003e\n      \u003ctd\u003e894\u003c/td\u003e\n      \u003ctd\u003e2\u003c/td\u003e\n      \u003ctd\u003e0\u003c/td\u003e\n      \u003ctd\u003e3\u003c/td\u003e\n      \u003ctd\u003e0\u003c/td\u003e\n      \u003ctd\u003e0\u003c/td\u003e\n      \u003ctd\u003e9.6875\u003c/td\u003e\n      \u003ctd\u003e2\u003c/td\u003e\n      \u003ctd\u003e1\u003c/td\u003e\n    \u003c/tr\u003e\n    \u003ctr\u003e\n      \u003cth\u003e3\u003c/th\u003e\n      \u003ctd\u003e895\u003c/td\u003e\n      \u003ctd\u003e3\u003c/td\u003e\n      \u003ctd\u003e0\u003c/td\u003e\n      \u003ctd\u003e1\u003c/td\u003e\n      \u003ctd\u003e0\u003c/td\u003e\n      \u003ctd\u003e0\u003c/td\u003e\n      \u003ctd\u003e8.6625\u003c/td\u003e\n      \u003ctd\u003e0\u003c/td\u003e\n      \u003ctd\u003e1\u003c/td\u003e\n    \u003c/tr\u003e\n    \u003ctr\u003e\n      \u003cth\u003e4\u003c/th\u003e\n      \u003ctd\u003e896\u003c/td\u003e\n      \u003ctd\u003e3\u003c/td\u003e\n      \u003ctd\u003e1\u003c/td\u003e\n      \u003ctd\u003e1\u003c/td\u003e\n      \u003ctd\u003e1\u003c/td\u003e\n      \u003ctd\u003e1\u003c/td\u003e\n      \u003ctd\u003e12.2875\u003c/td\u003e\n      \u003ctd\u003e0\u003c/td\u003e\n      \u003ctd\u003e3\u003c/td\u003e\n    \u003c/tr\u003e\n  \u003c/tbody\u003e\n\u003c/table\u003e\n\u003c/div\u003e",
                        "text/plain": "   PassengerId  Pclass  Sex  Age  SibSp  Parch     Fare  Embarked  Title\n0          892       3    0    2      0      0   7.8292         2      1\n1          893       3    1    2      1      0   7.0000         0      3\n2          894       2    0    3      0      0   9.6875         2      1\n3          895       3    0    1      0      0   8.6625         0      1\n4          896       3    1    1      1      1  12.2875         0      3"
                    },
                    "execution_count": 261,
                    "metadata": {},
                    "output_type": "execute_result"
                }
            ],
            "source": [
                "#TODO: Write code to inspect the first five rows of test_df\n",
                "test_df.head()"
            ]
        },
        {
            "attachments": {},
            "cell_type": "markdown",
            "metadata": {},
            "source": [
                "**Creating**\n",
                "\n",
                "There are more features that can be created to facilitate the analysis of this data set:\n",
                "\n",
                "* We may want to create a new feature called Family based on Parch and SibSp to get total count of family members on board.\n",
                "* We may want to engineer the Name feature to extract Title as a new feature.\n",
                "* We may want to create new feature for Age bands. This turns a continous numerical feature into an ordinal categorical feature.\n",
                "* We may also want to create a Fare range feature if it helps our analysis.\n",
                ""
            ]
        },
        {
            "cell_type": "code",
            "execution_count": 262,
            "metadata": {},
            "outputs": [
                {
                    "data": {
                        "text/html": "\u003cdiv\u003e\n\u003cstyle scoped\u003e\n    .dataframe tbody tr th:only-of-type {\n        vertical-align: middle;\n    }\n\n    .dataframe tbody tr th {\n        vertical-align: top;\n    }\n\n    .dataframe thead th {\n        text-align: right;\n    }\n\u003c/style\u003e\n\u003ctable border=\"1\" class=\"dataframe\"\u003e\n  \u003cthead\u003e\n    \u003ctr style=\"text-align: right;\"\u003e\n      \u003cth\u003e\u003c/th\u003e\n      \u003cth\u003eFamilySize\u003c/th\u003e\n      \u003cth\u003eSurvived\u003c/th\u003e\n    \u003c/tr\u003e\n  \u003c/thead\u003e\n  \u003ctbody\u003e\n    \u003ctr\u003e\n      \u003cth\u003e3\u003c/th\u003e\n      \u003ctd\u003e4\u003c/td\u003e\n      \u003ctd\u003e0.724138\u003c/td\u003e\n    \u003c/tr\u003e\n    \u003ctr\u003e\n      \u003cth\u003e2\u003c/th\u003e\n      \u003ctd\u003e3\u003c/td\u003e\n      \u003ctd\u003e0.578431\u003c/td\u003e\n    \u003c/tr\u003e\n    \u003ctr\u003e\n      \u003cth\u003e1\u003c/th\u003e\n      \u003ctd\u003e2\u003c/td\u003e\n      \u003ctd\u003e0.552795\u003c/td\u003e\n    \u003c/tr\u003e\n    \u003ctr\u003e\n      \u003cth\u003e6\u003c/th\u003e\n      \u003ctd\u003e7\u003c/td\u003e\n      \u003ctd\u003e0.333333\u003c/td\u003e\n    \u003c/tr\u003e\n    \u003ctr\u003e\n      \u003cth\u003e0\u003c/th\u003e\n      \u003ctd\u003e1\u003c/td\u003e\n      \u003ctd\u003e0.303538\u003c/td\u003e\n    \u003c/tr\u003e\n    \u003ctr\u003e\n      \u003cth\u003e4\u003c/th\u003e\n      \u003ctd\u003e5\u003c/td\u003e\n      \u003ctd\u003e0.200000\u003c/td\u003e\n    \u003c/tr\u003e\n    \u003ctr\u003e\n      \u003cth\u003e5\u003c/th\u003e\n      \u003ctd\u003e6\u003c/td\u003e\n      \u003ctd\u003e0.136364\u003c/td\u003e\n    \u003c/tr\u003e\n    \u003ctr\u003e\n      \u003cth\u003e7\u003c/th\u003e\n      \u003ctd\u003e8\u003c/td\u003e\n      \u003ctd\u003e0.000000\u003c/td\u003e\n    \u003c/tr\u003e\n    \u003ctr\u003e\n      \u003cth\u003e8\u003c/th\u003e\n      \u003ctd\u003e11\u003c/td\u003e\n      \u003ctd\u003e0.000000\u003c/td\u003e\n    \u003c/tr\u003e\n  \u003c/tbody\u003e\n\u003c/table\u003e\n\u003c/div\u003e",
                        "text/plain": "   FamilySize  Survived\n3           4  0.724138\n2           3  0.578431\n1           2  0.552795\n6           7  0.333333\n0           1  0.303538\n4           5  0.200000\n5           6  0.136364\n7           8  0.000000\n8          11  0.000000"
                    },
                    "execution_count": 262,
                    "metadata": {},
                    "output_type": "execute_result"
                }
            ],
            "source": [
                "# create a new feature for FamilySize which combines Parch and SibSp. \n",
                "# This will enable us to drop Parch and SibSp from our datasets.\n",
                "for dataset in combine:\n",
                "    dataset['FamilySize'] = dataset['SibSp'] + dataset['Parch'] + 1\n",
                "\n",
                "train_df[['FamilySize', 'Survived']].groupby(['FamilySize'], \n",
                "as_index=False).mean().sort_values(by='Survived', ascending=False)"
            ]
        },
        {
            "cell_type": "code",
            "execution_count": 263,
            "metadata": {},
            "outputs": [
                {
                    "data": {
                        "text/html": "\u003cdiv\u003e\n\u003cstyle scoped\u003e\n    .dataframe tbody tr th:only-of-type {\n        vertical-align: middle;\n    }\n\n    .dataframe tbody tr th {\n        vertical-align: top;\n    }\n\n    .dataframe thead th {\n        text-align: right;\n    }\n\u003c/style\u003e\n\u003ctable border=\"1\" class=\"dataframe\"\u003e\n  \u003cthead\u003e\n    \u003ctr style=\"text-align: right;\"\u003e\n      \u003cth\u003e\u003c/th\u003e\n      \u003cth\u003eIsAlone\u003c/th\u003e\n      \u003cth\u003eSurvived\u003c/th\u003e\n    \u003c/tr\u003e\n  \u003c/thead\u003e\n  \u003ctbody\u003e\n    \u003ctr\u003e\n      \u003cth\u003e0\u003c/th\u003e\n      \u003ctd\u003e0\u003c/td\u003e\n      \u003ctd\u003e0.505650\u003c/td\u003e\n    \u003c/tr\u003e\n    \u003ctr\u003e\n      \u003cth\u003e1\u003c/th\u003e\n      \u003ctd\u003e1\u003c/td\u003e\n      \u003ctd\u003e0.303538\u003c/td\u003e\n    \u003c/tr\u003e\n  \u003c/tbody\u003e\n\u003c/table\u003e\n\u003c/div\u003e",
                        "text/plain": "   IsAlone  Survived\n0        0  0.505650\n1        1  0.303538"
                    },
                    "execution_count": 263,
                    "metadata": {},
                    "output_type": "execute_result"
                }
            ],
            "source": [
                "# Create the IsAlone feature\n",
                "for dataset in combine:\n",
                "    dataset['IsAlone'] = 0\n",
                "    dataset.loc[dataset['FamilySize'] == 1, 'IsAlone'] = 1\n",
                "\n",
                "train_df[['IsAlone', 'Survived']].groupby(['IsAlone'], as_index=False).mean()"
            ]
        },
        {
            "cell_type": "code",
            "execution_count": 264,
            "metadata": {},
            "outputs": [
                {
                    "data": {
                        "text/html": "\u003cdiv\u003e\n\u003cstyle scoped\u003e\n    .dataframe tbody tr th:only-of-type {\n        vertical-align: middle;\n    }\n\n    .dataframe tbody tr th {\n        vertical-align: top;\n    }\n\n    .dataframe thead th {\n        text-align: right;\n    }\n\u003c/style\u003e\n\u003ctable border=\"1\" class=\"dataframe\"\u003e\n  \u003cthead\u003e\n    \u003ctr style=\"text-align: right;\"\u003e\n      \u003cth\u003e\u003c/th\u003e\n      \u003cth\u003eSurvived\u003c/th\u003e\n      \u003cth\u003ePclass\u003c/th\u003e\n      \u003cth\u003eSex\u003c/th\u003e\n      \u003cth\u003eAge\u003c/th\u003e\n      \u003cth\u003eFare\u003c/th\u003e\n      \u003cth\u003eEmbarked\u003c/th\u003e\n      \u003cth\u003eTitle\u003c/th\u003e\n      \u003cth\u003eIsAlone\u003c/th\u003e\n    \u003c/tr\u003e\n  \u003c/thead\u003e\n  \u003ctbody\u003e\n    \u003ctr\u003e\n      \u003cth\u003e0\u003c/th\u003e\n      \u003ctd\u003e0\u003c/td\u003e\n      \u003ctd\u003e3\u003c/td\u003e\n      \u003ctd\u003e0\u003c/td\u003e\n      \u003ctd\u003e1\u003c/td\u003e\n      \u003ctd\u003e7.2500\u003c/td\u003e\n      \u003ctd\u003e0\u003c/td\u003e\n      \u003ctd\u003e1\u003c/td\u003e\n      \u003ctd\u003e0\u003c/td\u003e\n    \u003c/tr\u003e\n    \u003ctr\u003e\n      \u003cth\u003e1\u003c/th\u003e\n      \u003ctd\u003e1\u003c/td\u003e\n      \u003ctd\u003e1\u003c/td\u003e\n      \u003ctd\u003e1\u003c/td\u003e\n      \u003ctd\u003e2\u003c/td\u003e\n      \u003ctd\u003e71.2833\u003c/td\u003e\n      \u003ctd\u003e1\u003c/td\u003e\n      \u003ctd\u003e3\u003c/td\u003e\n      \u003ctd\u003e0\u003c/td\u003e\n    \u003c/tr\u003e\n    \u003ctr\u003e\n      \u003cth\u003e2\u003c/th\u003e\n      \u003ctd\u003e1\u003c/td\u003e\n      \u003ctd\u003e3\u003c/td\u003e\n      \u003ctd\u003e1\u003c/td\u003e\n      \u003ctd\u003e1\u003c/td\u003e\n      \u003ctd\u003e7.9250\u003c/td\u003e\n      \u003ctd\u003e0\u003c/td\u003e\n      \u003ctd\u003e2\u003c/td\u003e\n      \u003ctd\u003e1\u003c/td\u003e\n    \u003c/tr\u003e\n    \u003ctr\u003e\n      \u003cth\u003e3\u003c/th\u003e\n      \u003ctd\u003e1\u003c/td\u003e\n      \u003ctd\u003e1\u003c/td\u003e\n      \u003ctd\u003e1\u003c/td\u003e\n      \u003ctd\u003e2\u003c/td\u003e\n      \u003ctd\u003e53.1000\u003c/td\u003e\n      \u003ctd\u003e0\u003c/td\u003e\n      \u003ctd\u003e3\u003c/td\u003e\n      \u003ctd\u003e0\u003c/td\u003e\n    \u003c/tr\u003e\n    \u003ctr\u003e\n      \u003cth\u003e4\u003c/th\u003e\n      \u003ctd\u003e0\u003c/td\u003e\n      \u003ctd\u003e3\u003c/td\u003e\n      \u003ctd\u003e0\u003c/td\u003e\n      \u003ctd\u003e2\u003c/td\u003e\n      \u003ctd\u003e8.0500\u003c/td\u003e\n      \u003ctd\u003e0\u003c/td\u003e\n      \u003ctd\u003e1\u003c/td\u003e\n      \u003ctd\u003e1\u003c/td\u003e\n    \u003c/tr\u003e\n  \u003c/tbody\u003e\n\u003c/table\u003e\n\u003c/div\u003e",
                        "text/plain": "   Survived  Pclass  Sex  Age     Fare  Embarked  Title  IsAlone\n0         0       3    0    1   7.2500         0      1        0\n1         1       1    1    2  71.2833         1      3        0\n2         1       3    1    1   7.9250         0      2        1\n3         1       1    1    2  53.1000         0      3        0\n4         0       3    0    2   8.0500         0      1        1"
                    },
                    "execution_count": 264,
                    "metadata": {},
                    "output_type": "execute_result"
                }
            ],
            "source": [
                "# Drop Parch, SibSp, and FamilySize features in favor of IsAlone.\n",
                "train_df = train_df.drop(['Parch', 'SibSp', 'FamilySize'], axis=1)\n",
                "test_df = test_df.drop(['Parch', 'SibSp', 'FamilySize'], axis=1)\n",
                "combine = [train_df, test_df]\n",
                "\n",
                "#TODO: Write code to inspect the first five rows of train_df\n",
                "train_df.head()"
            ]
        },
        {
            "cell_type": "code",
            "execution_count": 265,
            "metadata": {},
            "outputs": [
                {
                    "data": {
                        "text/html": "\u003cdiv\u003e\n\u003cstyle scoped\u003e\n    .dataframe tbody tr th:only-of-type {\n        vertical-align: middle;\n    }\n\n    .dataframe tbody tr th {\n        vertical-align: top;\n    }\n\n    .dataframe thead th {\n        text-align: right;\n    }\n\u003c/style\u003e\n\u003ctable border=\"1\" class=\"dataframe\"\u003e\n  \u003cthead\u003e\n    \u003ctr style=\"text-align: right;\"\u003e\n      \u003cth\u003e\u003c/th\u003e\n      \u003cth\u003eAge*Class\u003c/th\u003e\n      \u003cth\u003eAge\u003c/th\u003e\n      \u003cth\u003ePclass\u003c/th\u003e\n    \u003c/tr\u003e\n  \u003c/thead\u003e\n  \u003ctbody\u003e\n    \u003ctr\u003e\n      \u003cth\u003e0\u003c/th\u003e\n      \u003ctd\u003e3\u003c/td\u003e\n      \u003ctd\u003e1\u003c/td\u003e\n      \u003ctd\u003e3\u003c/td\u003e\n    \u003c/tr\u003e\n    \u003ctr\u003e\n      \u003cth\u003e1\u003c/th\u003e\n      \u003ctd\u003e2\u003c/td\u003e\n      \u003ctd\u003e2\u003c/td\u003e\n      \u003ctd\u003e1\u003c/td\u003e\n    \u003c/tr\u003e\n    \u003ctr\u003e\n      \u003cth\u003e2\u003c/th\u003e\n      \u003ctd\u003e3\u003c/td\u003e\n      \u003ctd\u003e1\u003c/td\u003e\n      \u003ctd\u003e3\u003c/td\u003e\n    \u003c/tr\u003e\n    \u003ctr\u003e\n      \u003cth\u003e3\u003c/th\u003e\n      \u003ctd\u003e2\u003c/td\u003e\n      \u003ctd\u003e2\u003c/td\u003e\n      \u003ctd\u003e1\u003c/td\u003e\n    \u003c/tr\u003e\n    \u003ctr\u003e\n      \u003cth\u003e4\u003c/th\u003e\n      \u003ctd\u003e6\u003c/td\u003e\n      \u003ctd\u003e2\u003c/td\u003e\n      \u003ctd\u003e3\u003c/td\u003e\n    \u003c/tr\u003e\n    \u003ctr\u003e\n      \u003cth\u003e5\u003c/th\u003e\n      \u003ctd\u003e3\u003c/td\u003e\n      \u003ctd\u003e1\u003c/td\u003e\n      \u003ctd\u003e3\u003c/td\u003e\n    \u003c/tr\u003e\n    \u003ctr\u003e\n      \u003cth\u003e6\u003c/th\u003e\n      \u003ctd\u003e3\u003c/td\u003e\n      \u003ctd\u003e3\u003c/td\u003e\n      \u003ctd\u003e1\u003c/td\u003e\n    \u003c/tr\u003e\n    \u003ctr\u003e\n      \u003cth\u003e7\u003c/th\u003e\n      \u003ctd\u003e0\u003c/td\u003e\n      \u003ctd\u003e0\u003c/td\u003e\n      \u003ctd\u003e3\u003c/td\u003e\n    \u003c/tr\u003e\n    \u003ctr\u003e\n      \u003cth\u003e8\u003c/th\u003e\n      \u003ctd\u003e3\u003c/td\u003e\n      \u003ctd\u003e1\u003c/td\u003e\n      \u003ctd\u003e3\u003c/td\u003e\n    \u003c/tr\u003e\n    \u003ctr\u003e\n      \u003cth\u003e9\u003c/th\u003e\n      \u003ctd\u003e0\u003c/td\u003e\n      \u003ctd\u003e0\u003c/td\u003e\n      \u003ctd\u003e2\u003c/td\u003e\n    \u003c/tr\u003e\n  \u003c/tbody\u003e\n\u003c/table\u003e\n\u003c/div\u003e",
                        "text/plain": "   Age*Class  Age  Pclass\n0          3    1       3\n1          2    2       1\n2          3    1       3\n3          2    2       1\n4          6    2       3\n5          3    1       3\n6          3    3       1\n7          0    0       3\n8          3    1       3\n9          0    0       2"
                    },
                    "execution_count": 265,
                    "metadata": {},
                    "output_type": "execute_result"
                }
            ],
            "source": [
                "# We can also create an artificial feature combining Pclass and Age.\n",
                "for dataset in combine:\n",
                "    dataset['Age*Class'] = dataset.Age * dataset.Pclass\n",
                "\n",
                "train_df.loc[:, ['Age*Class', 'Age', 'Pclass']].head(10)"
            ]
        },
        {
            "cell_type": "code",
            "execution_count": 266,
            "metadata": {},
            "outputs": [
                {
                    "data": {
                        "text/html": "\u003cdiv\u003e\n\u003cstyle scoped\u003e\n    .dataframe tbody tr th:only-of-type {\n        vertical-align: middle;\n    }\n\n    .dataframe tbody tr th {\n        vertical-align: top;\n    }\n\n    .dataframe thead th {\n        text-align: right;\n    }\n\u003c/style\u003e\n\u003ctable border=\"1\" class=\"dataframe\"\u003e\n  \u003cthead\u003e\n    \u003ctr style=\"text-align: right;\"\u003e\n      \u003cth\u003e\u003c/th\u003e\n      \u003cth\u003eSurvived\u003c/th\u003e\n      \u003cth\u003ePclass\u003c/th\u003e\n      \u003cth\u003eSex\u003c/th\u003e\n      \u003cth\u003eAge\u003c/th\u003e\n      \u003cth\u003eFare\u003c/th\u003e\n      \u003cth\u003eEmbarked\u003c/th\u003e\n      \u003cth\u003eTitle\u003c/th\u003e\n      \u003cth\u003eIsAlone\u003c/th\u003e\n      \u003cth\u003eAge*Class\u003c/th\u003e\n    \u003c/tr\u003e\n  \u003c/thead\u003e\n  \u003ctbody\u003e\n    \u003ctr\u003e\n      \u003cth\u003e0\u003c/th\u003e\n      \u003ctd\u003e0\u003c/td\u003e\n      \u003ctd\u003e3\u003c/td\u003e\n      \u003ctd\u003e0\u003c/td\u003e\n      \u003ctd\u003e1\u003c/td\u003e\n      \u003ctd\u003e7.2500\u003c/td\u003e\n      \u003ctd\u003e0\u003c/td\u003e\n      \u003ctd\u003e1\u003c/td\u003e\n      \u003ctd\u003e0\u003c/td\u003e\n      \u003ctd\u003e3\u003c/td\u003e\n    \u003c/tr\u003e\n    \u003ctr\u003e\n      \u003cth\u003e1\u003c/th\u003e\n      \u003ctd\u003e1\u003c/td\u003e\n      \u003ctd\u003e1\u003c/td\u003e\n      \u003ctd\u003e1\u003c/td\u003e\n      \u003ctd\u003e2\u003c/td\u003e\n      \u003ctd\u003e71.2833\u003c/td\u003e\n      \u003ctd\u003e1\u003c/td\u003e\n      \u003ctd\u003e3\u003c/td\u003e\n      \u003ctd\u003e0\u003c/td\u003e\n      \u003ctd\u003e2\u003c/td\u003e\n    \u003c/tr\u003e\n    \u003ctr\u003e\n      \u003cth\u003e2\u003c/th\u003e\n      \u003ctd\u003e1\u003c/td\u003e\n      \u003ctd\u003e3\u003c/td\u003e\n      \u003ctd\u003e1\u003c/td\u003e\n      \u003ctd\u003e1\u003c/td\u003e\n      \u003ctd\u003e7.9250\u003c/td\u003e\n      \u003ctd\u003e0\u003c/td\u003e\n      \u003ctd\u003e2\u003c/td\u003e\n      \u003ctd\u003e1\u003c/td\u003e\n      \u003ctd\u003e3\u003c/td\u003e\n    \u003c/tr\u003e\n    \u003ctr\u003e\n      \u003cth\u003e3\u003c/th\u003e\n      \u003ctd\u003e1\u003c/td\u003e\n      \u003ctd\u003e1\u003c/td\u003e\n      \u003ctd\u003e1\u003c/td\u003e\n      \u003ctd\u003e2\u003c/td\u003e\n      \u003ctd\u003e53.1000\u003c/td\u003e\n      \u003ctd\u003e0\u003c/td\u003e\n      \u003ctd\u003e3\u003c/td\u003e\n      \u003ctd\u003e0\u003c/td\u003e\n      \u003ctd\u003e2\u003c/td\u003e\n    \u003c/tr\u003e\n    \u003ctr\u003e\n      \u003cth\u003e4\u003c/th\u003e\n      \u003ctd\u003e0\u003c/td\u003e\n      \u003ctd\u003e3\u003c/td\u003e\n      \u003ctd\u003e0\u003c/td\u003e\n      \u003ctd\u003e2\u003c/td\u003e\n      \u003ctd\u003e8.0500\u003c/td\u003e\n      \u003ctd\u003e0\u003c/td\u003e\n      \u003ctd\u003e1\u003c/td\u003e\n      \u003ctd\u003e1\u003c/td\u003e\n      \u003ctd\u003e6\u003c/td\u003e\n    \u003c/tr\u003e\n  \u003c/tbody\u003e\n\u003c/table\u003e\n\u003c/div\u003e",
                        "text/plain": "   Survived  Pclass  Sex  Age     Fare  Embarked  Title  IsAlone  Age*Class\n0         0       3    0    1   7.2500         0      1        0          3\n1         1       1    1    2  71.2833         1      3        0          2\n2         1       3    1    1   7.9250         0      2        1          3\n3         1       1    1    2  53.1000         0      3        0          2\n4         0       3    0    2   8.0500         0      1        1          6"
                    },
                    "execution_count": 266,
                    "metadata": {},
                    "output_type": "execute_result"
                }
            ],
            "source": [
                "test_df['Fare'].fillna(test_df['Fare'].dropna().median(), inplace=True)\n",
                "#TODO: Write code to inspect the first five rows of train_df\n",
                "train_df.head()"
            ]
        },
        {
            "cell_type": "code",
            "execution_count": 267,
            "metadata": {},
            "outputs": [
                {
                    "data": {
                        "text/html": "\u003cdiv\u003e\n\u003cstyle scoped\u003e\n    .dataframe tbody tr th:only-of-type {\n        vertical-align: middle;\n    }\n\n    .dataframe tbody tr th {\n        vertical-align: top;\n    }\n\n    .dataframe thead th {\n        text-align: right;\n    }\n\u003c/style\u003e\n\u003ctable border=\"1\" class=\"dataframe\"\u003e\n  \u003cthead\u003e\n    \u003ctr style=\"text-align: right;\"\u003e\n      \u003cth\u003e\u003c/th\u003e\n      \u003cth\u003eFareBand\u003c/th\u003e\n      \u003cth\u003eSurvived\u003c/th\u003e\n    \u003c/tr\u003e\n  \u003c/thead\u003e\n  \u003ctbody\u003e\n    \u003ctr\u003e\n      \u003cth\u003e0\u003c/th\u003e\n      \u003ctd\u003e(-0.001, 7.91]\u003c/td\u003e\n      \u003ctd\u003e0.197309\u003c/td\u003e\n    \u003c/tr\u003e\n    \u003ctr\u003e\n      \u003cth\u003e1\u003c/th\u003e\n      \u003ctd\u003e(7.91, 14.454]\u003c/td\u003e\n      \u003ctd\u003e0.303571\u003c/td\u003e\n    \u003c/tr\u003e\n    \u003ctr\u003e\n      \u003cth\u003e2\u003c/th\u003e\n      \u003ctd\u003e(14.454, 31.0]\u003c/td\u003e\n      \u003ctd\u003e0.454955\u003c/td\u003e\n    \u003c/tr\u003e\n    \u003ctr\u003e\n      \u003cth\u003e3\u003c/th\u003e\n      \u003ctd\u003e(31.0, 512.329]\u003c/td\u003e\n      \u003ctd\u003e0.581081\u003c/td\u003e\n    \u003c/tr\u003e\n  \u003c/tbody\u003e\n\u003c/table\u003e\n\u003c/div\u003e",
                        "text/plain": "          FareBand  Survived\n0   (-0.001, 7.91]  0.197309\n1   (7.91, 14.454]  0.303571\n2   (14.454, 31.0]  0.454955\n3  (31.0, 512.329]  0.581081"
                    },
                    "execution_count": 267,
                    "metadata": {},
                    "output_type": "execute_result"
                }
            ],
            "source": [
                "# We can not create FareBand.\n",
                "train_df['FareBand'] = pd.qcut(train_df['Fare'], 4)\n",
                "train_df[['FareBand', 'Survived']].groupby(['FareBand'], as_index=False).mean().sort_values(by='FareBand', ascending=True)"
            ]
        },
        {
            "cell_type": "code",
            "execution_count": 268,
            "metadata": {},
            "outputs": [
                {
                    "data": {
                        "text/html": "\u003cdiv\u003e\n\u003cstyle scoped\u003e\n    .dataframe tbody tr th:only-of-type {\n        vertical-align: middle;\n    }\n\n    .dataframe tbody tr th {\n        vertical-align: top;\n    }\n\n    .dataframe thead th {\n        text-align: right;\n    }\n\u003c/style\u003e\n\u003ctable border=\"1\" class=\"dataframe\"\u003e\n  \u003cthead\u003e\n    \u003ctr style=\"text-align: right;\"\u003e\n      \u003cth\u003e\u003c/th\u003e\n      \u003cth\u003eSurvived\u003c/th\u003e\n      \u003cth\u003ePclass\u003c/th\u003e\n      \u003cth\u003eSex\u003c/th\u003e\n      \u003cth\u003eAge\u003c/th\u003e\n      \u003cth\u003eFare\u003c/th\u003e\n      \u003cth\u003eEmbarked\u003c/th\u003e\n      \u003cth\u003eTitle\u003c/th\u003e\n      \u003cth\u003eIsAlone\u003c/th\u003e\n      \u003cth\u003eAge*Class\u003c/th\u003e\n    \u003c/tr\u003e\n  \u003c/thead\u003e\n  \u003ctbody\u003e\n    \u003ctr\u003e\n      \u003cth\u003e0\u003c/th\u003e\n      \u003ctd\u003e0\u003c/td\u003e\n      \u003ctd\u003e3\u003c/td\u003e\n      \u003ctd\u003e0\u003c/td\u003e\n      \u003ctd\u003e1\u003c/td\u003e\n      \u003ctd\u003e0\u003c/td\u003e\n      \u003ctd\u003e0\u003c/td\u003e\n      \u003ctd\u003e1\u003c/td\u003e\n      \u003ctd\u003e0\u003c/td\u003e\n      \u003ctd\u003e3\u003c/td\u003e\n    \u003c/tr\u003e\n    \u003ctr\u003e\n      \u003cth\u003e1\u003c/th\u003e\n      \u003ctd\u003e1\u003c/td\u003e\n      \u003ctd\u003e1\u003c/td\u003e\n      \u003ctd\u003e1\u003c/td\u003e\n      \u003ctd\u003e2\u003c/td\u003e\n      \u003ctd\u003e3\u003c/td\u003e\n      \u003ctd\u003e1\u003c/td\u003e\n      \u003ctd\u003e3\u003c/td\u003e\n      \u003ctd\u003e0\u003c/td\u003e\n      \u003ctd\u003e2\u003c/td\u003e\n    \u003c/tr\u003e\n    \u003ctr\u003e\n      \u003cth\u003e2\u003c/th\u003e\n      \u003ctd\u003e1\u003c/td\u003e\n      \u003ctd\u003e3\u003c/td\u003e\n      \u003ctd\u003e1\u003c/td\u003e\n      \u003ctd\u003e1\u003c/td\u003e\n      \u003ctd\u003e1\u003c/td\u003e\n      \u003ctd\u003e0\u003c/td\u003e\n      \u003ctd\u003e2\u003c/td\u003e\n      \u003ctd\u003e1\u003c/td\u003e\n      \u003ctd\u003e3\u003c/td\u003e\n    \u003c/tr\u003e\n    \u003ctr\u003e\n      \u003cth\u003e3\u003c/th\u003e\n      \u003ctd\u003e1\u003c/td\u003e\n      \u003ctd\u003e1\u003c/td\u003e\n      \u003ctd\u003e1\u003c/td\u003e\n      \u003ctd\u003e2\u003c/td\u003e\n      \u003ctd\u003e3\u003c/td\u003e\n      \u003ctd\u003e0\u003c/td\u003e\n      \u003ctd\u003e3\u003c/td\u003e\n      \u003ctd\u003e0\u003c/td\u003e\n      \u003ctd\u003e2\u003c/td\u003e\n    \u003c/tr\u003e\n    \u003ctr\u003e\n      \u003cth\u003e4\u003c/th\u003e\n      \u003ctd\u003e0\u003c/td\u003e\n      \u003ctd\u003e3\u003c/td\u003e\n      \u003ctd\u003e0\u003c/td\u003e\n      \u003ctd\u003e2\u003c/td\u003e\n      \u003ctd\u003e1\u003c/td\u003e\n      \u003ctd\u003e0\u003c/td\u003e\n      \u003ctd\u003e1\u003c/td\u003e\n      \u003ctd\u003e1\u003c/td\u003e\n      \u003ctd\u003e6\u003c/td\u003e\n    \u003c/tr\u003e\n  \u003c/tbody\u003e\n\u003c/table\u003e\n\u003c/div\u003e",
                        "text/plain": "   Survived  Pclass  Sex  Age  Fare  Embarked  Title  IsAlone  Age*Class\n0         0       3    0    1     0         0      1        0          3\n1         1       1    1    2     3         1      3        0          2\n2         1       3    1    1     1         0      2        1          3\n3         1       1    1    2     3         0      3        0          2\n4         0       3    0    2     1         0      1        1          6"
                    },
                    "execution_count": 268,
                    "metadata": {},
                    "output_type": "execute_result"
                }
            ],
            "source": [
                "# Convert the Fare feature to ordinal values based on the FareBand.\n",
                "for dataset in combine:\n",
                "    dataset.loc[ dataset['Fare'] \u003c= 7.91, 'Fare'] = 0\n",
                "    dataset.loc[(dataset['Fare'] \u003e 7.91) \u0026 (dataset['Fare'] \u003c= 14.454), 'Fare'] = 1\n",
                "    dataset.loc[(dataset['Fare'] \u003e 14.454) \u0026 (dataset['Fare'] \u003c= 31), 'Fare']   = 2\n",
                "    dataset.loc[ dataset['Fare'] \u003e 31, 'Fare'] = 3\n",
                "    dataset['Fare'] = dataset['Fare'].astype(int)\n",
                "\n",
                "train_df = train_df.drop(['FareBand'], axis=1)\n",
                "combine = [train_df, test_df]\n",
                "    \n",
                "#TODO: Write code to inspect the first five rows of train_df\n",
                "train_df.head()"
            ]
        },
        {
            "cell_type": "code",
            "execution_count": 269,
            "metadata": {},
            "outputs": [
                {
                    "data": {
                        "text/html": "\u003cdiv\u003e\n\u003cstyle scoped\u003e\n    .dataframe tbody tr th:only-of-type {\n        vertical-align: middle;\n    }\n\n    .dataframe tbody tr th {\n        vertical-align: top;\n    }\n\n    .dataframe thead th {\n        text-align: right;\n    }\n\u003c/style\u003e\n\u003ctable border=\"1\" class=\"dataframe\"\u003e\n  \u003cthead\u003e\n    \u003ctr style=\"text-align: right;\"\u003e\n      \u003cth\u003e\u003c/th\u003e\n      \u003cth\u003ePassengerId\u003c/th\u003e\n      \u003cth\u003ePclass\u003c/th\u003e\n      \u003cth\u003eSex\u003c/th\u003e\n      \u003cth\u003eAge\u003c/th\u003e\n      \u003cth\u003eFare\u003c/th\u003e\n      \u003cth\u003eEmbarked\u003c/th\u003e\n      \u003cth\u003eTitle\u003c/th\u003e\n      \u003cth\u003eIsAlone\u003c/th\u003e\n      \u003cth\u003eAge*Class\u003c/th\u003e\n    \u003c/tr\u003e\n  \u003c/thead\u003e\n  \u003ctbody\u003e\n    \u003ctr\u003e\n      \u003cth\u003e0\u003c/th\u003e\n      \u003ctd\u003e892\u003c/td\u003e\n      \u003ctd\u003e3\u003c/td\u003e\n      \u003ctd\u003e0\u003c/td\u003e\n      \u003ctd\u003e2\u003c/td\u003e\n      \u003ctd\u003e0\u003c/td\u003e\n      \u003ctd\u003e2\u003c/td\u003e\n      \u003ctd\u003e1\u003c/td\u003e\n      \u003ctd\u003e1\u003c/td\u003e\n      \u003ctd\u003e6\u003c/td\u003e\n    \u003c/tr\u003e\n    \u003ctr\u003e\n      \u003cth\u003e1\u003c/th\u003e\n      \u003ctd\u003e893\u003c/td\u003e\n      \u003ctd\u003e3\u003c/td\u003e\n      \u003ctd\u003e1\u003c/td\u003e\n      \u003ctd\u003e2\u003c/td\u003e\n      \u003ctd\u003e0\u003c/td\u003e\n      \u003ctd\u003e0\u003c/td\u003e\n      \u003ctd\u003e3\u003c/td\u003e\n      \u003ctd\u003e0\u003c/td\u003e\n      \u003ctd\u003e6\u003c/td\u003e\n    \u003c/tr\u003e\n    \u003ctr\u003e\n      \u003cth\u003e2\u003c/th\u003e\n      \u003ctd\u003e894\u003c/td\u003e\n      \u003ctd\u003e2\u003c/td\u003e\n      \u003ctd\u003e0\u003c/td\u003e\n      \u003ctd\u003e3\u003c/td\u003e\n      \u003ctd\u003e1\u003c/td\u003e\n      \u003ctd\u003e2\u003c/td\u003e\n      \u003ctd\u003e1\u003c/td\u003e\n      \u003ctd\u003e1\u003c/td\u003e\n      \u003ctd\u003e6\u003c/td\u003e\n    \u003c/tr\u003e\n    \u003ctr\u003e\n      \u003cth\u003e3\u003c/th\u003e\n      \u003ctd\u003e895\u003c/td\u003e\n      \u003ctd\u003e3\u003c/td\u003e\n      \u003ctd\u003e0\u003c/td\u003e\n      \u003ctd\u003e1\u003c/td\u003e\n      \u003ctd\u003e1\u003c/td\u003e\n      \u003ctd\u003e0\u003c/td\u003e\n      \u003ctd\u003e1\u003c/td\u003e\n      \u003ctd\u003e1\u003c/td\u003e\n      \u003ctd\u003e3\u003c/td\u003e\n    \u003c/tr\u003e\n    \u003ctr\u003e\n      \u003cth\u003e4\u003c/th\u003e\n      \u003ctd\u003e896\u003c/td\u003e\n      \u003ctd\u003e3\u003c/td\u003e\n      \u003ctd\u003e1\u003c/td\u003e\n      \u003ctd\u003e1\u003c/td\u003e\n      \u003ctd\u003e1\u003c/td\u003e\n      \u003ctd\u003e0\u003c/td\u003e\n      \u003ctd\u003e3\u003c/td\u003e\n      \u003ctd\u003e0\u003c/td\u003e\n      \u003ctd\u003e3\u003c/td\u003e\n    \u003c/tr\u003e\n  \u003c/tbody\u003e\n\u003c/table\u003e\n\u003c/div\u003e",
                        "text/plain": "   PassengerId  Pclass  Sex  Age  Fare  Embarked  Title  IsAlone  Age*Class\n0          892       3    0    2     0         2      1        1          6\n1          893       3    1    2     0         0      3        0          6\n2          894       2    0    3     1         2      1        1          6\n3          895       3    0    1     1         0      1        1          3\n4          896       3    1    1     1         0      3        0          3"
                    },
                    "execution_count": 269,
                    "metadata": {},
                    "output_type": "execute_result"
                }
            ],
            "source": [
                "#TODO: Write code to inspect the first five rows of test_df\n",
                "test_df.head()"
            ]
        },
        {
            "attachments": {},
            "cell_type": "markdown",
            "metadata": {},
            "source": [
                "# Earn Your Wings"
            ]
        },
        {
            "attachments": {},
            "cell_type": "markdown",
            "metadata": {},
            "source": [
                "Use a decision tree classifier on the cleaned data set to predict 'Survived' for the given data. Report the accuracy score. Add comments in your code to explain each step that you take in your implementation."
            ]
        },
        {
            "cell_type": "code",
            "execution_count": 270,
            "metadata": {},
            "outputs": [
                {
                    "data": {
                        "text/plain": "[Text(0.5380747126436781, 0.9583333333333334, 'X[5] \u003c= 1.5\\ngini = 0.473\\nsamples = 891\\nvalue = [549, 342]'),\n Text(0.2971743295019157, 0.875, 'X[0] \u003c= 1.5\\ngini = 0.264\\nsamples = 517\\nvalue = [436, 81]'),\n Text(0.14367816091954022, 0.7916666666666666, 'X[2] \u003c= 2.5\\ngini = 0.452\\nsamples = 107\\nvalue = [70, 37]'),\n Text(0.06513409961685823, 0.7083333333333334, 'X[3] \u003c= 1.0\\ngini = 0.483\\nsamples = 81\\nvalue = [48, 33]'),\n Text(0.05747126436781609, 0.625, 'gini = 0.0\\nsamples = 5\\nvalue = [5, 0]'),\n Text(0.07279693486590039, 0.625, 'X[3] \u003c= 2.5\\ngini = 0.491\\nsamples = 76\\nvalue = [43, 33]'),\n Text(0.022988505747126436, 0.5416666666666666, 'X[6] \u003c= 0.5\\ngini = 0.49\\nsamples = 28\\nvalue = [12, 16]'),\n Text(0.01532567049808429, 0.4583333333333333, 'gini = 0.0\\nsamples = 1\\nvalue = [1, 0]'),\n Text(0.03065134099616858, 0.4583333333333333, 'X[4] \u003c= 0.5\\ngini = 0.483\\nsamples = 27\\nvalue = [11, 16]'),\n Text(0.01532567049808429, 0.375, 'X[7] \u003c= 1.5\\ngini = 0.465\\nsamples = 19\\nvalue = [7, 12]'),\n Text(0.007662835249042145, 0.2916666666666667, 'gini = 0.444\\nsamples = 3\\nvalue = [1, 2]'),\n Text(0.022988505747126436, 0.2916666666666667, 'gini = 0.469\\nsamples = 16\\nvalue = [6, 10]'),\n Text(0.04597701149425287, 0.375, 'X[2] \u003c= 1.5\\ngini = 0.5\\nsamples = 8\\nvalue = [4, 4]'),\n Text(0.038314176245210725, 0.2916666666666667, 'gini = 0.5\\nsamples = 2\\nvalue = [1, 1]'),\n Text(0.05363984674329502, 0.2916666666666667, 'gini = 0.5\\nsamples = 6\\nvalue = [3, 3]'),\n Text(0.12260536398467432, 0.5416666666666666, 'X[6] \u003c= 0.5\\ngini = 0.457\\nsamples = 48\\nvalue = [31, 17]'),\n Text(0.09195402298850575, 0.4583333333333333, 'X[4] \u003c= 0.5\\ngini = 0.497\\nsamples = 28\\nvalue = [15, 13]'),\n Text(0.07662835249042145, 0.375, 'X[7] \u003c= 1.5\\ngini = 0.475\\nsamples = 18\\nvalue = [11, 7]'),\n Text(0.06896551724137931, 0.2916666666666667, 'gini = 0.408\\nsamples = 7\\nvalue = [5, 2]'),\n Text(0.0842911877394636, 0.2916666666666667, 'gini = 0.496\\nsamples = 11\\nvalue = [6, 5]'),\n Text(0.10727969348659004, 0.375, 'X[2] \u003c= 1.5\\ngini = 0.48\\nsamples = 10\\nvalue = [4, 6]'),\n Text(0.09961685823754789, 0.2916666666666667, 'gini = 0.5\\nsamples = 8\\nvalue = [4, 4]'),\n Text(0.11494252873563218, 0.2916666666666667, 'gini = 0.0\\nsamples = 2\\nvalue = [0, 2]'),\n Text(0.1532567049808429, 0.4583333333333333, 'X[2] \u003c= 1.5\\ngini = 0.32\\nsamples = 20\\nvalue = [16, 4]'),\n Text(0.13793103448275862, 0.375, 'X[4] \u003c= 0.5\\ngini = 0.444\\nsamples = 6\\nvalue = [4, 2]'),\n Text(0.13026819923371646, 0.2916666666666667, 'gini = 0.444\\nsamples = 3\\nvalue = [2, 1]'),\n Text(0.14559386973180077, 0.2916666666666667, 'gini = 0.444\\nsamples = 3\\nvalue = [2, 1]'),\n Text(0.1685823754789272, 0.375, 'X[4] \u003c= 0.5\\ngini = 0.245\\nsamples = 14\\nvalue = [12, 2]'),\n Text(0.16091954022988506, 0.2916666666666667, 'gini = 0.18\\nsamples = 10\\nvalue = [9, 1]'),\n Text(0.17624521072796934, 0.2916666666666667, 'gini = 0.375\\nsamples = 4\\nvalue = [3, 1]'),\n Text(0.2222222222222222, 0.7083333333333334, 'X[7] \u003c= 75.5\\ngini = 0.26\\nsamples = 26\\nvalue = [22, 4]'),\n Text(0.21455938697318008, 0.625, 'X[4] \u003c= 0.5\\ngini = 0.211\\nsamples = 25\\nvalue = [22, 3]'),\n Text(0.19923371647509577, 0.5416666666666666, 'X[3] \u003c= 2.5\\ngini = 0.133\\nsamples = 14\\nvalue = [13, 1]'),\n Text(0.19157088122605365, 0.4583333333333333, 'X[7] \u003c= 34.0\\ngini = 0.245\\nsamples = 7\\nvalue = [6, 1]'),\n Text(0.1839080459770115, 0.375, 'gini = 0.278\\nsamples = 6\\nvalue = [5, 1]'),\n Text(0.19923371647509577, 0.375, 'gini = 0.0\\nsamples = 1\\nvalue = [1, 0]'),\n Text(0.20689655172413793, 0.4583333333333333, 'gini = 0.0\\nsamples = 7\\nvalue = [7, 0]'),\n Text(0.22988505747126436, 0.5416666666666666, 'X[6] \u003c= 0.5\\ngini = 0.298\\nsamples = 11\\nvalue = [9, 2]'),\n Text(0.2222222222222222, 0.4583333333333333, 'X[7] \u003c= 34.0\\ngini = 0.408\\nsamples = 7\\nvalue = [5, 2]'),\n Text(0.21455938697318008, 0.375, 'gini = 0.444\\nsamples = 6\\nvalue = [4, 2]'),\n Text(0.22988505747126436, 0.375, 'gini = 0.0\\nsamples = 1\\nvalue = [1, 0]'),\n Text(0.23754789272030652, 0.4583333333333333, 'gini = 0.0\\nsamples = 4\\nvalue = [4, 0]'),\n Text(0.22988505747126436, 0.625, 'gini = 0.0\\nsamples = 1\\nvalue = [0, 1]'),\n Text(0.45067049808429116, 0.7916666666666666, 'X[2] \u003c= 1.5\\ngini = 0.192\\nsamples = 410\\nvalue = [366, 44]'),\n Text(0.407088122605364, 0.7083333333333334, 'X[3] \u003c= 2.5\\ngini = 0.215\\nsamples = 311\\nvalue = [273, 38]'),\n Text(0.35823754789272033, 0.625, 'X[4] \u003c= 0.5\\ngini = 0.202\\nsamples = 289\\nvalue = [256, 33]'),\n Text(0.30842911877394635, 0.5416666666666666, 'X[3] \u003c= 1.5\\ngini = 0.188\\nsamples = 219\\nvalue = [196, 23]'),\n Text(0.2720306513409962, 0.4583333333333333, 'X[3] \u003c= 0.5\\ngini = 0.203\\nsamples = 192\\nvalue = [170, 22]'),\n Text(0.24521072796934865, 0.375, 'X[7] \u003c= 2.5\\ngini = 0.157\\nsamples = 93\\nvalue = [85, 8]'),\n Text(0.23754789272030652, 0.2916666666666667, 'gini = 0.0\\nsamples = 7\\nvalue = [7, 0]'),\n Text(0.25287356321839083, 0.2916666666666667, 'X[6] \u003c= 0.5\\ngini = 0.169\\nsamples = 86\\nvalue = [78, 8]'),\n Text(0.24521072796934865, 0.20833333333333334, 'gini = 0.219\\nsamples = 8\\nvalue = [7, 1]'),\n Text(0.26053639846743293, 0.20833333333333334, 'gini = 0.163\\nsamples = 78\\nvalue = [71, 7]'),\n Text(0.2988505747126437, 0.375, 'X[0] \u003c= 2.5\\ngini = 0.243\\nsamples = 99\\nvalue = [85, 14]'),\n Text(0.2835249042145594, 0.2916666666666667, 'X[6] \u003c= 0.5\\ngini = 0.175\\nsamples = 31\\nvalue = [28, 3]'),\n Text(0.27586206896551724, 0.20833333333333334, 'gini = 0.0\\nsamples = 2\\nvalue = [2, 0]'),\n Text(0.29118773946360155, 0.20833333333333334, 'X[2] \u003c= 0.5\\ngini = 0.185\\nsamples = 29\\nvalue = [26, 3]'),\n Text(0.2835249042145594, 0.125, 'gini = 0.0\\nsamples = 1\\nvalue = [1, 0]'),\n Text(0.2988505747126437, 0.125, 'gini = 0.191\\nsamples = 28\\nvalue = [25, 3]'),\n Text(0.31417624521072796, 0.2916666666666667, 'X[6] \u003c= 0.5\\ngini = 0.271\\nsamples = 68\\nvalue = [57, 11]'),\n Text(0.3065134099616858, 0.20833333333333334, 'gini = 0.444\\nsamples = 3\\nvalue = [2, 1]'),\n Text(0.3218390804597701, 0.20833333333333334, 'X[7] \u003c= 1.5\\ngini = 0.26\\nsamples = 65\\nvalue = [55, 10]'),\n Text(0.31417624521072796, 0.125, 'gini = 0.375\\nsamples = 4\\nvalue = [3, 1]'),\n Text(0.32950191570881227, 0.125, 'gini = 0.252\\nsamples = 61\\nvalue = [52, 9]'),\n Text(0.3448275862068966, 0.4583333333333333, 'X[0] \u003c= 2.5\\ngini = 0.071\\nsamples = 27\\nvalue = [26, 1]'),\n Text(0.3371647509578544, 0.375, 'X[6] \u003c= 0.5\\ngini = 0.278\\nsamples = 6\\nvalue = [5, 1]'),\n Text(0.32950191570881227, 0.2916666666666667, 'gini = 0.375\\nsamples = 4\\nvalue = [3, 1]'),\n Text(0.3448275862068966, 0.2916666666666667, 'gini = 0.0\\nsamples = 2\\nvalue = [2, 0]'),\n Text(0.3524904214559387, 0.375, 'gini = 0.0\\nsamples = 21\\nvalue = [21, 0]'),\n Text(0.40804597701149425, 0.5416666666666666, 'X[4] \u003c= 1.5\\ngini = 0.245\\nsamples = 70\\nvalue = [60, 10]'),\n Text(0.37547892720306514, 0.4583333333333333, 'X[7] \u003c= 1.0\\ngini = 0.295\\nsamples = 39\\nvalue = [32, 7]'),\n Text(0.367816091954023, 0.375, 'gini = 0.0\\nsamples = 2\\nvalue = [2, 0]'),\n Text(0.3831417624521073, 0.375, 'X[6] \u003c= 0.5\\ngini = 0.307\\nsamples = 37\\nvalue = [30, 7]'),\n Text(0.36398467432950193, 0.2916666666666667, 'X[0] \u003c= 2.5\\ngini = 0.219\\nsamples = 8\\nvalue = [7, 1]'),\n Text(0.3563218390804598, 0.20833333333333334, 'gini = 0.0\\nsamples = 3\\nvalue = [3, 0]'),\n Text(0.3716475095785441, 0.20833333333333334, 'X[3] \u003c= 1.0\\ngini = 0.32\\nsamples = 5\\nvalue = [4, 1]'),\n Text(0.36398467432950193, 0.125, 'gini = 0.0\\nsamples = 1\\nvalue = [1, 0]'),\n Text(0.3793103448275862, 0.125, 'gini = 0.375\\nsamples = 4\\nvalue = [3, 1]'),\n Text(0.40229885057471265, 0.2916666666666667, 'X[3] \u003c= 0.5\\ngini = 0.328\\nsamples = 29\\nvalue = [23, 6]'),\n Text(0.3946360153256705, 0.20833333333333334, 'gini = 0.287\\nsamples = 23\\nvalue = [19, 4]'),\n Text(0.4099616858237548, 0.20833333333333334, 'X[3] \u003c= 1.5\\ngini = 0.444\\nsamples = 6\\nvalue = [4, 2]'),\n Text(0.3946360153256705, 0.125, 'X[7] \u003c= 2.5\\ngini = 0.5\\nsamples = 2\\nvalue = [1, 1]'),\n Text(0.38697318007662834, 0.041666666666666664, 'gini = 0.0\\nsamples = 1\\nvalue = [0, 1]'),\n Text(0.40229885057471265, 0.041666666666666664, 'gini = 0.0\\nsamples = 1\\nvalue = [1, 0]'),\n Text(0.42528735632183906, 0.125, 'X[0] \u003c= 2.5\\ngini = 0.375\\nsamples = 4\\nvalue = [3, 1]'),\n Text(0.41762452107279696, 0.041666666666666664, 'gini = 0.0\\nsamples = 2\\nvalue = [2, 0]'),\n Text(0.4329501915708812, 0.041666666666666664, 'gini = 0.5\\nsamples = 2\\nvalue = [1, 1]'),\n Text(0.44061302681992337, 0.4583333333333333, 'X[6] \u003c= 0.5\\ngini = 0.175\\nsamples = 31\\nvalue = [28, 3]'),\n Text(0.42528735632183906, 0.375, 'X[3] \u003c= 1.0\\ngini = 0.32\\nsamples = 5\\nvalue = [4, 1]'),\n Text(0.41762452107279696, 0.2916666666666667, 'gini = 0.0\\nsamples = 1\\nvalue = [1, 0]'),\n Text(0.4329501915708812, 0.2916666666666667, 'gini = 0.375\\nsamples = 4\\nvalue = [3, 1]'),\n Text(0.4559386973180077, 0.375, 'X[3] \u003c= 0.5\\ngini = 0.142\\nsamples = 26\\nvalue = [24, 2]'),\n Text(0.4482758620689655, 0.2916666666666667, 'gini = 0.159\\nsamples = 23\\nvalue = [21, 2]'),\n Text(0.46360153256704983, 0.2916666666666667, 'gini = 0.0\\nsamples = 3\\nvalue = [3, 0]'),\n Text(0.4559386973180077, 0.625, 'X[6] \u003c= 0.5\\ngini = 0.351\\nsamples = 22\\nvalue = [17, 5]'),\n Text(0.4482758620689655, 0.5416666666666666, 'gini = 0.0\\nsamples = 13\\nvalue = [13, 0]'),\n Text(0.46360153256704983, 0.5416666666666666, 'X[0] \u003c= 2.5\\ngini = 0.494\\nsamples = 9\\nvalue = [4, 5]'),\n Text(0.4559386973180077, 0.4583333333333333, 'gini = 0.0\\nsamples = 2\\nvalue = [2, 0]'),\n Text(0.47126436781609193, 0.4583333333333333, 'gini = 0.408\\nsamples = 7\\nvalue = [2, 5]'),\n Text(0.4942528735632184, 0.7083333333333334, 'X[3] \u003c= 0.5\\ngini = 0.114\\nsamples = 99\\nvalue = [93, 6]'),\n Text(0.48659003831417624, 0.625, 'gini = 0.0\\nsamples = 32\\nvalue = [32, 0]'),\n Text(0.5019157088122606, 0.625, 'X[3] \u003c= 1.5\\ngini = 0.163\\nsamples = 67\\nvalue = [61, 6]'),\n Text(0.4942528735632184, 0.5416666666666666, 'X[7] \u003c= 7.5\\ngini = 0.24\\nsamples = 43\\nvalue = [37, 6]'),\n Text(0.48659003831417624, 0.4583333333333333, 'X[6] \u003c= 0.5\\ngini = 0.266\\nsamples = 38\\nvalue = [32, 6]'),\n Text(0.4789272030651341, 0.375, 'gini = 0.0\\nsamples = 4\\nvalue = [4, 0]'),\n Text(0.4942528735632184, 0.375, 'X[4] \u003c= 0.5\\ngini = 0.291\\nsamples = 34\\nvalue = [28, 6]'),\n Text(0.48659003831417624, 0.2916666666666667, 'X[2] \u003c= 2.5\\ngini = 0.305\\nsamples = 32\\nvalue = [26, 6]'),\n Text(0.4789272030651341, 0.20833333333333334, 'X[7] \u003c= 5.0\\ngini = 0.302\\nsamples = 27\\nvalue = [22, 5]'),\n Text(0.47126436781609193, 0.125, 'gini = 0.298\\nsamples = 11\\nvalue = [9, 2]'),\n Text(0.48659003831417624, 0.125, 'gini = 0.305\\nsamples = 16\\nvalue = [13, 3]'),\n Text(0.4942528735632184, 0.20833333333333334, 'gini = 0.32\\nsamples = 5\\nvalue = [4, 1]'),\n Text(0.5019157088122606, 0.2916666666666667, 'gini = 0.0\\nsamples = 2\\nvalue = [2, 0]'),\n Text(0.5019157088122606, 0.4583333333333333, 'gini = 0.0\\nsamples = 5\\nvalue = [5, 0]'),\n Text(0.5095785440613027, 0.5416666666666666, 'gini = 0.0\\nsamples = 24\\nvalue = [24, 0]'),\n Text(0.7789750957854407, 0.875, 'X[0] \u003c= 2.5\\ngini = 0.422\\nsamples = 374\\nvalue = [113, 261]'),\n Text(0.6455938697318008, 0.7916666666666666, 'X[5] \u003c= 4.5\\ngini = 0.209\\nsamples = 202\\nvalue = [24, 178]'),\n Text(0.6053639846743295, 0.7083333333333334, 'X[3] \u003c= 2.5\\ngini = 0.096\\nsamples = 179\\nvalue = [9, 170]'),\n Text(0.5708812260536399, 0.625, 'X[2] \u003c= 2.5\\ngini = 0.16\\nsamples = 80\\nvalue = [7, 73]'),\n Text(0.5402298850574713, 0.5416666666666666, 'X[7] \u003c= 1.5\\ngini = 0.129\\nsamples = 72\\nvalue = [5, 67]'),\n Text(0.5325670498084292, 0.4583333333333333, 'gini = 0.0\\nsamples = 16\\nvalue = [0, 16]'),\n Text(0.5478927203065134, 0.4583333333333333, 'X[4] \u003c= 0.5\\ngini = 0.163\\nsamples = 56\\nvalue = [5, 51]'),\n Text(0.5402298850574713, 0.375, 'X[6] \u003c= 0.5\\ngini = 0.183\\nsamples = 49\\nvalue = [5, 44]'),\n Text(0.5172413793103449, 0.2916666666666667, 'X[5] \u003c= 2.5\\ngini = 0.211\\nsamples = 25\\nvalue = [3, 22]'),\n Text(0.5095785440613027, 0.20833333333333334, 'gini = 0.0\\nsamples = 3\\nvalue = [0, 3]'),\n Text(0.524904214559387, 0.20833333333333334, 'X[7] \u003c= 3.0\\ngini = 0.236\\nsamples = 22\\nvalue = [3, 19]'),\n Text(0.5172413793103449, 0.125, 'gini = 0.245\\nsamples = 14\\nvalue = [2, 12]'),\n Text(0.5325670498084292, 0.125, 'gini = 0.219\\nsamples = 8\\nvalue = [1, 7]'),\n Text(0.5632183908045977, 0.2916666666666667, 'X[5] \u003c= 2.5\\ngini = 0.153\\nsamples = 24\\nvalue = [2, 22]'),\n Text(0.5555555555555556, 0.20833333333333334, 'X[3] \u003c= 1.5\\ngini = 0.231\\nsamples = 15\\nvalue = [2, 13]'),\n Text(0.5478927203065134, 0.125, 'X[2] \u003c= 1.5\\ngini = 0.26\\nsamples = 13\\nvalue = [2, 11]'),\n Text(0.5402298850574713, 0.041666666666666664, 'gini = 0.198\\nsamples = 9\\nvalue = [1, 8]'),\n Text(0.5555555555555556, 0.041666666666666664, 'gini = 0.375\\nsamples = 4\\nvalue = [1, 3]'),\n Text(0.5632183908045977, 0.125, 'gini = 0.0\\nsamples = 2\\nvalue = [0, 2]'),\n Text(0.5708812260536399, 0.20833333333333334, 'gini = 0.0\\nsamples = 9\\nvalue = [0, 9]'),\n Text(0.5555555555555556, 0.375, 'gini = 0.0\\nsamples = 7\\nvalue = [0, 7]'),\n Text(0.6015325670498084, 0.5416666666666666, 'X[4] \u003c= 0.5\\ngini = 0.375\\nsamples = 8\\nvalue = [2, 6]'),\n Text(0.5938697318007663, 0.4583333333333333, 'X[3] \u003c= 1.5\\ngini = 0.245\\nsamples = 7\\nvalue = [1, 6]'),\n Text(0.5862068965517241, 0.375, 'X[5] \u003c= 2.5\\ngini = 0.444\\nsamples = 3\\nvalue = [1, 2]'),\n Text(0.578544061302682, 0.2916666666666667, 'gini = 0.0\\nsamples = 2\\nvalue = [0, 2]'),\n Text(0.5938697318007663, 0.2916666666666667, 'gini = 0.0\\nsamples = 1\\nvalue = [1, 0]'),\n Text(0.6015325670498084, 0.375, 'gini = 0.0\\nsamples = 4\\nvalue = [0, 4]'),\n Text(0.6091954022988506, 0.4583333333333333, 'gini = 0.0\\nsamples = 1\\nvalue = [1, 0]'),\n Text(0.6398467432950191, 0.625, 'X[7] \u003c= 1.5\\ngini = 0.04\\nsamples = 99\\nvalue = [2, 97]'),\n Text(0.632183908045977, 0.5416666666666666, 'X[4] \u003c= 0.5\\ngini = 0.087\\nsamples = 44\\nvalue = [2, 42]'),\n Text(0.6245210727969349, 0.4583333333333333, 'X[6] \u003c= 0.5\\ngini = 0.142\\nsamples = 26\\nvalue = [2, 24]'),\n Text(0.6168582375478927, 0.375, 'X[1] \u003c= 0.5\\ngini = 0.188\\nsamples = 19\\nvalue = [2, 17]'),\n Text(0.6091954022988506, 0.2916666666666667, 'gini = 0.0\\nsamples = 5\\nvalue = [0, 5]'),\n Text(0.6245210727969349, 0.2916666666666667, 'X[5] \u003c= 2.5\\ngini = 0.245\\nsamples = 14\\nvalue = [2, 12]'),\n Text(0.6168582375478927, 0.20833333333333334, 'X[7] \u003c= 0.5\\ngini = 0.165\\nsamples = 11\\nvalue = [1, 10]'),\n Text(0.6091954022988506, 0.125, 'X[0] \u003c= 1.5\\ngini = 0.278\\nsamples = 6\\nvalue = [1, 5]'),\n Text(0.6015325670498084, 0.041666666666666664, 'gini = 0.375\\nsamples = 4\\nvalue = [1, 3]'),\n Text(0.6168582375478927, 0.041666666666666664, 'gini = 0.0\\nsamples = 2\\nvalue = [0, 2]'),\n Text(0.6245210727969349, 0.125, 'gini = 0.0\\nsamples = 5\\nvalue = [0, 5]'),\n Text(0.632183908045977, 0.20833333333333334, 'gini = 0.444\\nsamples = 3\\nvalue = [1, 2]'),\n Text(0.632183908045977, 0.375, 'gini = 0.0\\nsamples = 7\\nvalue = [0, 7]'),\n Text(0.6398467432950191, 0.4583333333333333, 'gini = 0.0\\nsamples = 18\\nvalue = [0, 18]'),\n Text(0.6475095785440613, 0.5416666666666666, 'gini = 0.0\\nsamples = 55\\nvalue = [0, 55]'),\n Text(0.685823754789272, 0.7083333333333334, 'X[0] \u003c= 1.5\\ngini = 0.454\\nsamples = 23\\nvalue = [15, 8]'),\n Text(0.6781609195402298, 0.625, 'X[1] \u003c= 0.5\\ngini = 0.498\\nsamples = 15\\nvalue = [7, 8]'),\n Text(0.6704980842911877, 0.5416666666666666, 'X[2] \u003c= 2.5\\ngini = 0.486\\nsamples = 12\\nvalue = [7, 5]'),\n Text(0.6551724137931034, 0.4583333333333333, 'X[2] \u003c= 1.5\\ngini = 0.278\\nsamples = 6\\nvalue = [5, 1]'),\n Text(0.6475095785440613, 0.375, 'gini = 0.0\\nsamples = 1\\nvalue = [0, 1]'),\n Text(0.6628352490421456, 0.375, 'gini = 0.0\\nsamples = 5\\nvalue = [5, 0]'),\n Text(0.685823754789272, 0.4583333333333333, 'X[7] \u003c= 36.5\\ngini = 0.444\\nsamples = 6\\nvalue = [2, 4]'),\n Text(0.6781609195402298, 0.375, 'X[3] \u003c= 2.5\\ngini = 0.32\\nsamples = 5\\nvalue = [1, 4]'),\n Text(0.6704980842911877, 0.2916666666666667, 'gini = 0.5\\nsamples = 2\\nvalue = [1, 1]'),\n Text(0.685823754789272, 0.2916666666666667, 'gini = 0.0\\nsamples = 3\\nvalue = [0, 3]'),\n Text(0.6934865900383141, 0.375, 'gini = 0.0\\nsamples = 1\\nvalue = [1, 0]'),\n Text(0.685823754789272, 0.5416666666666666, 'gini = 0.0\\nsamples = 3\\nvalue = [0, 3]'),\n Text(0.6934865900383141, 0.625, 'gini = 0.0\\nsamples = 8\\nvalue = [8, 0]'),\n Text(0.9123563218390804, 0.7916666666666666, 'X[3] \u003c= 2.5\\ngini = 0.499\\nsamples = 172\\nvalue = [89, 83]'),\n Text(0.8400383141762452, 0.7083333333333334, 'X[4] \u003c= 0.5\\ngini = 0.495\\nsamples = 146\\nvalue = [66, 80]'),\n Text(0.7816091954022989, 0.625, 'X[5] \u003c= 2.5\\ngini = 0.495\\nsamples = 82\\nvalue = [45, 37]'),\n Text(0.7509578544061303, 0.5416666666666666, 'X[3] \u003c= 1.5\\ngini = 0.473\\nsamples = 47\\nvalue = [29, 18]'),\n Text(0.735632183908046, 0.4583333333333333, 'X[7] \u003c= 4.5\\ngini = 0.496\\nsamples = 35\\nvalue = [19, 16]'),\n Text(0.7279693486590039, 0.375, 'X[3] \u003c= 0.5\\ngini = 0.5\\nsamples = 33\\nvalue = [17, 16]'),\n Text(0.7011494252873564, 0.2916666666666667, 'X[2] \u003c= 0.5\\ngini = 0.49\\nsamples = 14\\nvalue = [6, 8]'),\n Text(0.6934865900383141, 0.20833333333333334, 'gini = 0.0\\nsamples = 1\\nvalue = [1, 0]'),\n Text(0.7088122605363985, 0.20833333333333334, 'X[6] \u003c= 0.5\\ngini = 0.473\\nsamples = 13\\nvalue = [5, 8]'),\n Text(0.7011494252873564, 0.125, 'gini = 0.0\\nsamples = 1\\nvalue = [0, 1]'),\n Text(0.7164750957854407, 0.125, 'gini = 0.486\\nsamples = 12\\nvalue = [5, 7]'),\n Text(0.7547892720306514, 0.2916666666666667, 'X[7] \u003c= 1.5\\ngini = 0.488\\nsamples = 19\\nvalue = [11, 8]'),\n Text(0.7394636015325671, 0.20833333333333334, 'X[6] \u003c= 0.5\\ngini = 0.375\\nsamples = 4\\nvalue = [1, 3]'),\n Text(0.7318007662835249, 0.125, 'gini = 0.444\\nsamples = 3\\nvalue = [1, 2]'),\n Text(0.7471264367816092, 0.125, 'gini = 0.0\\nsamples = 1\\nvalue = [0, 1]'),\n Text(0.7701149425287356, 0.20833333333333334, 'X[6] \u003c= 0.5\\ngini = 0.444\\nsamples = 15\\nvalue = [10, 5]'),\n Text(0.7624521072796935, 0.125, 'gini = 0.375\\nsamples = 4\\nvalue = [3, 1]'),\n Text(0.7777777777777778, 0.125, 'gini = 0.463\\nsamples = 11\\nvalue = [7, 4]'),\n Text(0.7432950191570882, 0.375, 'gini = 0.0\\nsamples = 2\\nvalue = [2, 0]'),\n Text(0.7662835249042146, 0.4583333333333333, 'X[7] \u003c= 1.5\\ngini = 0.278\\nsamples = 12\\nvalue = [10, 2]'),\n Text(0.7586206896551724, 0.375, 'gini = 0.408\\nsamples = 7\\nvalue = [5, 2]'),\n Text(0.7739463601532567, 0.375, 'gini = 0.0\\nsamples = 5\\nvalue = [5, 0]'),\n Text(0.8122605363984674, 0.5416666666666666, 'X[2] \u003c= 2.5\\ngini = 0.496\\nsamples = 35\\nvalue = [16, 19]'),\n Text(0.8045977011494253, 0.4583333333333333, 'X[7] \u003c= 1.5\\ngini = 0.498\\nsamples = 34\\nvalue = [16, 18]'),\n Text(0.789272030651341, 0.375, 'X[3] \u003c= 1.5\\ngini = 0.444\\nsamples = 9\\nvalue = [3, 6]'),\n Text(0.7816091954022989, 0.2916666666666667, 'gini = 0.0\\nsamples = 2\\nvalue = [0, 2]'),\n Text(0.7969348659003831, 0.2916666666666667, 'gini = 0.49\\nsamples = 7\\nvalue = [3, 4]'),\n Text(0.8199233716475096, 0.375, 'X[1] \u003c= 0.5\\ngini = 0.499\\nsamples = 25\\nvalue = [13, 12]'),\n Text(0.8122605363984674, 0.2916666666666667, 'gini = 0.0\\nsamples = 1\\nvalue = [1, 0]'),\n Text(0.8275862068965517, 0.2916666666666667, 'X[7] \u003c= 4.5\\ngini = 0.5\\nsamples = 24\\nvalue = [12, 12]'),\n Text(0.8122605363984674, 0.20833333333333334, 'X[3] \u003c= 1.5\\ngini = 0.498\\nsamples = 17\\nvalue = [8, 9]'),\n Text(0.8045977011494253, 0.125, 'X[6] \u003c= 0.5\\ngini = 0.49\\nsamples = 7\\nvalue = [3, 4]'),\n Text(0.7969348659003831, 0.041666666666666664, 'gini = 0.48\\nsamples = 5\\nvalue = [2, 3]'),\n Text(0.8122605363984674, 0.041666666666666664, 'gini = 0.5\\nsamples = 2\\nvalue = [1, 1]'),\n Text(0.8199233716475096, 0.125, 'gini = 0.5\\nsamples = 10\\nvalue = [5, 5]'),\n Text(0.842911877394636, 0.20833333333333334, 'X[3] \u003c= 1.5\\ngini = 0.49\\nsamples = 7\\nvalue = [4, 3]'),\n Text(0.8352490421455939, 0.125, 'gini = 0.0\\nsamples = 1\\nvalue = [1, 0]'),\n Text(0.8505747126436781, 0.125, 'gini = 0.5\\nsamples = 6\\nvalue = [3, 3]'),\n Text(0.8199233716475096, 0.4583333333333333, 'gini = 0.0\\nsamples = 1\\nvalue = [0, 1]'),\n Text(0.8984674329501916, 0.625, 'X[3] \u003c= 1.5\\ngini = 0.441\\nsamples = 64\\nvalue = [21, 43]'),\n Text(0.8582375478927203, 0.5416666666666666, 'X[7] \u003c= 1.5\\ngini = 0.327\\nsamples = 34\\nvalue = [7, 27]'),\n Text(0.8505747126436781, 0.4583333333333333, 'gini = 0.0\\nsamples = 9\\nvalue = [0, 9]'),\n Text(0.8659003831417624, 0.4583333333333333, 'X[3] \u003c= 0.5\\ngini = 0.403\\nsamples = 25\\nvalue = [7, 18]'),\n Text(0.8582375478927203, 0.375, 'X[6] \u003c= 0.5\\ngini = 0.375\\nsamples = 24\\nvalue = [6, 18]'),\n Text(0.8505747126436781, 0.2916666666666667, 'gini = 0.0\\nsamples = 1\\nvalue = [1, 0]'),\n Text(0.8659003831417624, 0.2916666666666667, 'X[4] \u003c= 1.5\\ngini = 0.34\\nsamples = 23\\nvalue = [5, 18]'),\n Text(0.8582375478927203, 0.20833333333333334, 'gini = 0.0\\nsamples = 2\\nvalue = [0, 2]'),\n Text(0.8735632183908046, 0.20833333333333334, 'gini = 0.363\\nsamples = 21\\nvalue = [5, 16]'),\n Text(0.8735632183908046, 0.375, 'gini = 0.0\\nsamples = 1\\nvalue = [1, 0]'),\n Text(0.9386973180076629, 0.5416666666666666, 'X[2] \u003c= 1.5\\ngini = 0.498\\nsamples = 30\\nvalue = [14, 16]'),\n Text(0.9310344827586207, 0.4583333333333333, 'X[5] \u003c= 3.5\\ngini = 0.49\\nsamples = 28\\nvalue = [12, 16]'),\n Text(0.9157088122605364, 0.375, 'X[6] \u003c= 0.5\\ngini = 0.463\\nsamples = 22\\nvalue = [8, 14]'),\n Text(0.9080459770114943, 0.2916666666666667, 'X[4] \u003c= 1.5\\ngini = 0.444\\nsamples = 21\\nvalue = [7, 14]'),\n Text(0.8888888888888888, 0.20833333333333334, 'X[2] \u003c= 0.5\\ngini = 0.48\\nsamples = 15\\nvalue = [6, 9]'),\n Text(0.8735632183908046, 0.125, 'X[5] \u003c= 2.5\\ngini = 0.408\\nsamples = 7\\nvalue = [2, 5]'),\n Text(0.8659003831417624, 0.041666666666666664, 'gini = 0.444\\nsamples = 6\\nvalue = [2, 4]'),\n Text(0.8812260536398467, 0.041666666666666664, 'gini = 0.0\\nsamples = 1\\nvalue = [0, 1]'),\n Text(0.9042145593869731, 0.125, 'X[5] \u003c= 2.5\\ngini = 0.5\\nsamples = 8\\nvalue = [4, 4]'),\n Text(0.896551724137931, 0.041666666666666664, 'gini = 0.444\\nsamples = 3\\nvalue = [2, 1]'),\n Text(0.9118773946360154, 0.041666666666666664, 'gini = 0.48\\nsamples = 5\\nvalue = [2, 3]'),\n Text(0.9272030651340997, 0.20833333333333334, 'X[5] \u003c= 2.5\\ngini = 0.278\\nsamples = 6\\nvalue = [1, 5]'),\n Text(0.9195402298850575, 0.125, 'gini = 0.0\\nsamples = 4\\nvalue = [0, 4]'),\n Text(0.9348659003831418, 0.125, 'gini = 0.5\\nsamples = 2\\nvalue = [1, 1]'),\n Text(0.9233716475095786, 0.2916666666666667, 'gini = 0.0\\nsamples = 1\\nvalue = [1, 0]'),\n Text(0.946360153256705, 0.375, 'X[7] \u003c= 1.5\\ngini = 0.444\\nsamples = 6\\nvalue = [4, 2]'),\n Text(0.9386973180076629, 0.2916666666666667, 'gini = 0.0\\nsamples = 4\\nvalue = [4, 0]'),\n Text(0.9540229885057471, 0.2916666666666667, 'gini = 0.0\\nsamples = 2\\nvalue = [0, 2]'),\n Text(0.946360153256705, 0.4583333333333333, 'gini = 0.0\\nsamples = 2\\nvalue = [2, 0]'),\n Text(0.9846743295019157, 0.7083333333333334, 'X[2] \u003c= 1.5\\ngini = 0.204\\nsamples = 26\\nvalue = [23, 3]'),\n Text(0.9770114942528736, 0.625, 'X[2] \u003c= 0.5\\ngini = 0.172\\nsamples = 21\\nvalue = [19, 2]'),\n Text(0.9693486590038314, 0.5416666666666666, 'X[1] \u003c= 0.5\\ngini = 0.219\\nsamples = 16\\nvalue = [14, 2]'),\n Text(0.9616858237547893, 0.4583333333333333, 'gini = 0.198\\nsamples = 9\\nvalue = [8, 1]'),\n Text(0.9770114942528736, 0.4583333333333333, 'gini = 0.245\\nsamples = 7\\nvalue = [6, 1]'),\n Text(0.9846743295019157, 0.5416666666666666, 'gini = 0.0\\nsamples = 5\\nvalue = [5, 0]'),\n Text(0.9923371647509579, 0.625, 'gini = 0.32\\nsamples = 5\\nvalue = [4, 1]')]"
                    },
                    "execution_count": 270,
                    "metadata": {},
                    "output_type": "execute_result"
                },
                {
                    "data": {
                        "image/png": "[encoded data removed]",
                        "text/plain": "\u003cFigure size 432x288 with 1 Axes\u003e"
                    },
                    "metadata": {
                        "needs_background": "light"
                    },
                    "output_type": "display_data"
                }
            ],
            "source": [
                "from sklearn import tree\n",
                "\n",
                "X_train = train_df.drop(\"Survived\", axis=1)\n",
                "Y_train = train_df[\"Survived\"]\n",
                "#X_test  = test_df.drop(\"PassengerId\", axis=1).copy()\n",
                "#X_train.shape, Y_train.shape, X_test.shape\n",
                "decision_tree = tree.DecisionTreeClassifier()\n",
                "decision_tree.fit(X_train, Y_train)\n",
                "#Y_pred = decision_tree.predict(X_test)\n",
                "#acc_decision_tree = round(decision_tree.score(X_train, Y_train) * 100, 2)\n",
                "#acc_decision_tree\n",
                "tree.plot_tree(decision_tree)"
            ]
        }
    ]
}
